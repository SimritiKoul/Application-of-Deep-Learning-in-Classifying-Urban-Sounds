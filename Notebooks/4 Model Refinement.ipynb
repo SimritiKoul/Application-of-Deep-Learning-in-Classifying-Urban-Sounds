{
 "cells": [
  {
   "cell_type": "markdown",
   "metadata": {},
   "source": [
    "# Classifying Urban sounds using Deep Learning\n",
    "\n",
    "## 4 Model Refinement "
   ]
  },
  {
   "cell_type": "markdown",
   "metadata": {},
   "source": [
    "### Load Preprocessed data "
   ]
  },
  {
   "cell_type": "code",
   "execution_count": 1,
   "metadata": {},
   "outputs": [],
   "source": [
    "# retrieve the preprocessed data from previous notebook\n",
    "\n",
    "%store -r x_train \n",
    "%store -r x_test \n",
    "%store -r y_train \n",
    "%store -r y_test \n",
    "%store -r yy \n",
    "%store -r le"
   ]
  },
  {
   "cell_type": "markdown",
   "metadata": {},
   "source": [
    "#### Model refinement\n",
    "\n",
    "In our inital attempt, we were able to achieve a Classification Accuracy score of: \n",
    "\n",
    "* Training data Accuracy:  92.3% \n",
    "* Testing data Accuracy:  87% \n",
    "\n",
    "We will now see if we can improve upon that score using a Convolutional Neural Network (CNN). "
   ]
  },
  {
   "cell_type": "markdown",
   "metadata": {},
   "source": [
    "#### Feature Extraction refinement \n",
    "\n",
    "In the prevous feature extraction stage, the MFCC vectors would vary in size for the different audio files (depending on the samples duration). \n",
    "\n",
    "However, CNNs require a fixed size for all inputs. To overcome this we will zero pad the output vectors to make them all the same size. "
   ]
  },
  {
   "cell_type": "code",
   "execution_count": 2,
   "metadata": {},
   "outputs": [],
   "source": [
    "import numpy as np\n",
    "max_pad_len = 174\n",
    "\n",
    "def extract_features(file_name):\n",
    "   \n",
    "    try:\n",
    "        audio, sample_rate = librosa.load(file_name, res_type='kaiser_fast') \n",
    "        mfccs = librosa.feature.mfcc(y=audio, sr=sample_rate, n_mfcc=40)\n",
    "        pad_width = max_pad_len - mfccs.shape[1]\n",
    "        mfccs = np.pad(mfccs, pad_width=((0, 0), (0, pad_width)), mode='constant')\n",
    "        \n",
    "    except Exception as e:\n",
    "        print(\"Error encountered while parsing file: \", file_name)\n",
    "        return None \n",
    "     \n",
    "    return mfccs"
   ]
  },
  {
   "cell_type": "code",
   "execution_count": 5,
   "metadata": {},
   "outputs": [
    {
     "name": "stderr",
     "output_type": "stream",
     "text": [
      "C:\\Users\\Simriti Koul\\Anaconda New\\envs\\Capstone\\lib\\site-packages\\librosa\\core\\spectrum.py:224: UserWarning: n_fft=2048 is too small for input signal of length=1323\n",
      "  n_fft, y.shape[-1]\n",
      "C:\\Users\\Simriti Koul\\Anaconda New\\envs\\Capstone\\lib\\site-packages\\librosa\\core\\spectrum.py:224: UserWarning: n_fft=2048 is too small for input signal of length=1103\n",
      "  n_fft, y.shape[-1]\n",
      "C:\\Users\\Simriti Koul\\Anaconda New\\envs\\Capstone\\lib\\site-packages\\librosa\\core\\spectrum.py:224: UserWarning: n_fft=2048 is too small for input signal of length=1523\n",
      "  n_fft, y.shape[-1]\n"
     ]
    },
    {
     "name": "stdout",
     "output_type": "stream",
     "text": [
      "Finished feature extraction from  8732  files\n"
     ]
    }
   ],
   "source": [
    "# Load various imports \n",
    "import pandas as pd\n",
    "import os\n",
    "import librosa\n",
    "\n",
    "# Set the path to the full UrbanSound dataset \n",
    "fulldatasetpath = (r\"C:\\Users\\Simriti Koul\\Desktop\\CAPSTONE\\UrbanSound8K.tar\\UrbanSound8K\")\n",
    "\n",
    "metadata = pd.read_csv(r\"C:\\Users\\Simriti Koul\\Desktop\\CAPSTONE\\UrbanSound8K.tar\\UrbanSound8K\\metadata\\UrbanSound8K.csv\")\n",
    "\n",
    "features = []\n",
    "\n",
    "# Iterate through each sound file and extract the features \n",
    "for index, row in metadata.iterrows():\n",
    "    \n",
    "    file_name = os.path.join(os.path.abspath(r\"C:\\Users\\Simriti Koul\\Desktop\\CAPSTONE\\UrbanSound8K.tar\\UrbanSound8K\\train\"),'fold'+str(row[\"fold\"])+'\\\\',str(row[\"slice_file_name\"]))\n",
    "    \n",
    "    class_label = row[\"class\"]\n",
    "    data = extract_features(file_name)\n",
    "    \n",
    "    features.append([data, class_label])\n",
    "\n",
    "# Convert into a Panda dataframe \n",
    "featuresdf = pd.DataFrame(features, columns=['feature','class_label'])\n",
    "\n",
    "print('Finished feature extraction from ', len(featuresdf), ' files') "
   ]
  },
  {
   "cell_type": "code",
   "execution_count": 7,
   "metadata": {},
   "outputs": [],
   "source": [
    "from sklearn.preprocessing import LabelEncoder\n",
    "from tensorflow.keras.utils import to_categorical\n",
    "\n",
    "# Convert features and corresponding classification labels into numpy arrays\n",
    "X = np.array(featuresdf.feature.tolist())\n",
    "y = np.array(featuresdf.class_label.tolist())\n",
    "\n",
    "# Encode the classification labels\n",
    "le = LabelEncoder()\n",
    "yy = to_categorical(le.fit_transform(y)) \n",
    "\n",
    "# split the dataset \n",
    "from sklearn.model_selection import train_test_split \n",
    "\n",
    "x_train, x_test, y_train, y_test = train_test_split(X, yy, test_size=0.2, random_state = 42)"
   ]
  },
  {
   "cell_type": "markdown",
   "metadata": {},
   "source": [
    "### Convolutional Neural Network (CNN) model architecture \n",
    "\n",
    "\n",
    "We will modify our model to be a Convolutional Neural Network (CNN) again using Keras and a Tensorflow backend. \n",
    "\n",
    "Again we will use a `sequential` model, starting with a simple model architecture, consisting of four `Conv2D` convolution layers, with our final output layer being a `dense` layer. \n",
    "\n",
    "The convolution layers are designed for feature detection. It works by sliding a filter window over the input and performing a matrix multiplication and storing the result in a feature map. This operation is known as a convolution. \n",
    "\n",
    "\n",
    "The `filter` parameter specifies the number of nodes in each layer. Each layer will increase in size from 16, 32, 64 to 128, while the `kernel_size` parameter specifies the size of the kernel window which in this case is 2 resulting in a 2x2 filter matrix. \n",
    "\n",
    "The first layer will receive the input shape of (40, 174, 1) where 40 is the number of MFCC's 174 is the number of frames taking padding into account and the 1 signifying that the audio is mono. \n",
    "\n",
    "The activation function we will be using for our convolutional layers is `ReLU` which is the same as our previous model. We will use a smaller `Dropout` value of 20% on our convolutional layers. \n",
    "\n",
    "Each convolutional layer has an associated pooling layer of `MaxPooling2D` type with the final convolutional layer having a `GlobalAveragePooling2D` type. The pooling layer is do reduce the dimensionality of the model (by reducing the parameters and subsquent computation requirements) which serves to shorten the training time and reduce overfitting. The Max Pooling type takes the maximum size for each window and the Global Average Pooling type takes the average which is suitable for feeding into our `dense` output layer.  \n",
    "\n",
    "Our output layer will have 10 nodes (num_labels) which matches the number of possible classifications. The activation is for our output layer is `softmax`. Softmax makes the output sum up to 1 so the output can be interpreted as probabilities. The model will then make its prediction based on which option has the highest probability."
   ]
  },
  {
   "cell_type": "code",
   "execution_count": 8,
   "metadata": {},
   "outputs": [],
   "source": [
    "import numpy as np\n",
    "from keras.models import Sequential\n",
    "from keras.layers import Dense, Dropout, Activation, Flatten\n",
    "from keras.layers import Convolution2D, Conv2D, MaxPooling2D, GlobalAveragePooling2D\n",
    "from keras.optimizers import Adam\n",
    "from keras.utils import np_utils\n",
    "from sklearn import metrics \n",
    "\n",
    "num_rows = 40\n",
    "num_columns = 174\n",
    "num_channels = 1\n",
    "\n",
    "x_train = x_train.reshape(x_train.shape[0], num_rows, num_columns, num_channels)\n",
    "x_test = x_test.reshape(x_test.shape[0], num_rows, num_columns, num_channels)\n",
    "\n",
    "num_labels = yy.shape[1]\n",
    "filter_size = 2\n",
    "\n",
    "# Construct model \n",
    "model = Sequential()\n",
    "model.add(Conv2D(filters=16, kernel_size=2, input_shape=(num_rows, num_columns, num_channels), activation='relu'))\n",
    "model.add(MaxPooling2D(pool_size=2))\n",
    "model.add(Dropout(0.2))\n",
    "\n",
    "model.add(Conv2D(filters=32, kernel_size=2, activation='relu'))\n",
    "model.add(MaxPooling2D(pool_size=2))\n",
    "model.add(Dropout(0.2))\n",
    "\n",
    "model.add(Conv2D(filters=64, kernel_size=2, activation='relu'))\n",
    "model.add(MaxPooling2D(pool_size=2))\n",
    "model.add(Dropout(0.2))\n",
    "\n",
    "model.add(Conv2D(filters=128, kernel_size=2, activation='relu'))\n",
    "model.add(MaxPooling2D(pool_size=2))\n",
    "model.add(Dropout(0.2))\n",
    "model.add(GlobalAveragePooling2D())\n",
    "\n",
    "model.add(Dense(num_labels, activation='softmax')) "
   ]
  },
  {
   "cell_type": "markdown",
   "metadata": {},
   "source": [
    "### Compiling the model \n",
    "\n",
    "For compiling our model, we will use the same three parameters as the previous model: "
   ]
  },
  {
   "cell_type": "code",
   "execution_count": 9,
   "metadata": {},
   "outputs": [],
   "source": [
    "# Compile the model\n",
    "model.compile(loss='categorical_crossentropy', metrics=['accuracy'], optimizer='adam') "
   ]
  },
  {
   "cell_type": "code",
   "execution_count": 10,
   "metadata": {},
   "outputs": [
    {
     "name": "stdout",
     "output_type": "stream",
     "text": [
      "Model: \"sequential\"\n",
      "_________________________________________________________________\n",
      "Layer (type)                 Output Shape              Param #   \n",
      "=================================================================\n",
      "conv2d (Conv2D)              (None, 39, 173, 16)       80        \n",
      "_________________________________________________________________\n",
      "max_pooling2d (MaxPooling2D) (None, 19, 86, 16)        0         \n",
      "_________________________________________________________________\n",
      "dropout (Dropout)            (None, 19, 86, 16)        0         \n",
      "_________________________________________________________________\n",
      "conv2d_1 (Conv2D)            (None, 18, 85, 32)        2080      \n",
      "_________________________________________________________________\n",
      "max_pooling2d_1 (MaxPooling2 (None, 9, 42, 32)         0         \n",
      "_________________________________________________________________\n",
      "dropout_1 (Dropout)          (None, 9, 42, 32)         0         \n",
      "_________________________________________________________________\n",
      "conv2d_2 (Conv2D)            (None, 8, 41, 64)         8256      \n",
      "_________________________________________________________________\n",
      "max_pooling2d_2 (MaxPooling2 (None, 4, 20, 64)         0         \n",
      "_________________________________________________________________\n",
      "dropout_2 (Dropout)          (None, 4, 20, 64)         0         \n",
      "_________________________________________________________________\n",
      "conv2d_3 (Conv2D)            (None, 3, 19, 128)        32896     \n",
      "_________________________________________________________________\n",
      "max_pooling2d_3 (MaxPooling2 (None, 1, 9, 128)         0         \n",
      "_________________________________________________________________\n",
      "dropout_3 (Dropout)          (None, 1, 9, 128)         0         \n",
      "_________________________________________________________________\n",
      "global_average_pooling2d (Gl (None, 128)               0         \n",
      "_________________________________________________________________\n",
      "dense (Dense)                (None, 10)                1290      \n",
      "=================================================================\n",
      "Total params: 44,602\n",
      "Trainable params: 44,602\n",
      "Non-trainable params: 0\n",
      "_________________________________________________________________\n",
      "55/55 [==============================] - 24s 35ms/step - loss: 9.0762 - accuracy: 0.0380\n",
      "Pre-training accuracy: 3.6062%\n"
     ]
    }
   ],
   "source": [
    "# Display model architecture summary \n",
    "model.summary()\n",
    "\n",
    "# Calculate pre-training accuracy \n",
    "score = model.evaluate(x_test, y_test, verbose=1)\n",
    "accuracy = 100*score[1]\n",
    "\n",
    "print(\"Pre-training accuracy: %.4f%%\" % accuracy)"
   ]
  },
  {
   "cell_type": "markdown",
   "metadata": {},
   "source": [
    "### Training \n",
    "\n",
    "Here we will train the model. As training a CNN can take a sigificant amount of time, we will start with a low number of epochs and a low batch size. If we can see from the output that the model is converging, we will increase both numbers.  "
   ]
  },
  {
   "cell_type": "code",
   "execution_count": 11,
   "metadata": {},
   "outputs": [
    {
     "name": "stdout",
     "output_type": "stream",
     "text": [
      "Epoch 1/72\n",
      "28/28 [==============================] - 28s 865ms/step - loss: 5.6707 - accuracy: 0.1591 - val_loss: 2.1975 - val_accuracy: 0.2129\n",
      "\n",
      "Epoch 00001: val_loss improved from inf to 2.19753, saving model to saved_models\\weights.best.basic_cnn.hdf5\n",
      "Epoch 2/72\n",
      "28/28 [==============================] - 25s 894ms/step - loss: 2.1457 - accuracy: 0.2744 - val_loss: 2.0202 - val_accuracy: 0.2736\n",
      "\n",
      "Epoch 00002: val_loss improved from 2.19753 to 2.02024, saving model to saved_models\\weights.best.basic_cnn.hdf5\n",
      "Epoch 3/72\n",
      "28/28 [==============================] - 26s 919ms/step - loss: 1.7939 - accuracy: 0.3591 - val_loss: 1.8236 - val_accuracy: 0.3887\n",
      "\n",
      "Epoch 00003: val_loss improved from 2.02024 to 1.82358, saving model to saved_models\\weights.best.basic_cnn.hdf5\n",
      "Epoch 4/72\n",
      "28/28 [==============================] - 26s 944ms/step - loss: 1.6290 - accuracy: 0.4222 - val_loss: 1.6935 - val_accuracy: 0.4345\n",
      "\n",
      "Epoch 00004: val_loss improved from 1.82358 to 1.69347, saving model to saved_models\\weights.best.basic_cnn.hdf5\n",
      "Epoch 5/72\n",
      "28/28 [==============================] - 28s 988ms/step - loss: 1.5139 - accuracy: 0.4724 - val_loss: 1.6042 - val_accuracy: 0.4568\n",
      "\n",
      "Epoch 00005: val_loss improved from 1.69347 to 1.60424, saving model to saved_models\\weights.best.basic_cnn.hdf5\n",
      "Epoch 6/72\n",
      "28/28 [==============================] - 26s 938ms/step - loss: 1.4341 - accuracy: 0.4972 - val_loss: 1.5107 - val_accuracy: 0.5003\n",
      "\n",
      "Epoch 00006: val_loss improved from 1.60424 to 1.51072, saving model to saved_models\\weights.best.basic_cnn.hdf5\n",
      "Epoch 7/72\n",
      "28/28 [==============================] - 26s 934ms/step - loss: 1.3460 - accuracy: 0.5288 - val_loss: 1.4560 - val_accuracy: 0.5215\n",
      "\n",
      "Epoch 00007: val_loss improved from 1.51072 to 1.45596, saving model to saved_models\\weights.best.basic_cnn.hdf5\n",
      "Epoch 8/72\n",
      "28/28 [==============================] - 27s 956ms/step - loss: 1.3018 - accuracy: 0.5403 - val_loss: 1.3648 - val_accuracy: 0.5793\n",
      "\n",
      "Epoch 00008: val_loss improved from 1.45596 to 1.36484, saving model to saved_models\\weights.best.basic_cnn.hdf5\n",
      "Epoch 9/72\n",
      "28/28 [==============================] - 32s 1s/step - loss: 1.2300 - accuracy: 0.5613 - val_loss: 1.3099 - val_accuracy: 0.5764\n",
      "\n",
      "Epoch 00009: val_loss improved from 1.36484 to 1.30992, saving model to saved_models\\weights.best.basic_cnn.hdf5\n",
      "Epoch 10/72\n",
      "28/28 [==============================] - 27s 974ms/step - loss: 1.1642 - accuracy: 0.5883 - val_loss: 1.2348 - val_accuracy: 0.6073\n",
      "\n",
      "Epoch 00010: val_loss improved from 1.30992 to 1.23482, saving model to saved_models\\weights.best.basic_cnn.hdf5\n",
      "Epoch 11/72\n",
      "28/28 [==============================] - 27s 967ms/step - loss: 1.1398 - accuracy: 0.5990 - val_loss: 1.2703 - val_accuracy: 0.5856\n",
      "\n",
      "Epoch 00011: val_loss did not improve from 1.23482\n",
      "Epoch 12/72\n",
      "28/28 [==============================] - 27s 954ms/step - loss: 1.0761 - accuracy: 0.6243 - val_loss: 1.1526 - val_accuracy: 0.6291\n",
      "\n",
      "Epoch 00012: val_loss improved from 1.23482 to 1.15259, saving model to saved_models\\weights.best.basic_cnn.hdf5\n",
      "Epoch 13/72\n",
      "28/28 [==============================] - 28s 987ms/step - loss: 1.0311 - accuracy: 0.6485 - val_loss: 1.1127 - val_accuracy: 0.6474\n",
      "\n",
      "Epoch 00013: val_loss improved from 1.15259 to 1.11275, saving model to saved_models\\weights.best.basic_cnn.hdf5\n",
      "Epoch 14/72\n",
      "28/28 [==============================] - 30s 1s/step - loss: 1.0074 - accuracy: 0.6520 - val_loss: 1.1149 - val_accuracy: 0.6268\n",
      "\n",
      "Epoch 00014: val_loss did not improve from 1.11275\n",
      "Epoch 15/72\n",
      "28/28 [==============================] - 31s 1s/step - loss: 0.9733 - accuracy: 0.6633 - val_loss: 1.0433 - val_accuracy: 0.6691\n",
      "\n",
      "Epoch 00015: val_loss improved from 1.11275 to 1.04326, saving model to saved_models\\weights.best.basic_cnn.hdf5\n",
      "Epoch 16/72\n",
      "28/28 [==============================] - 37s 1s/step - loss: 0.9364 - accuracy: 0.6779 - val_loss: 1.0599 - val_accuracy: 0.6566\n",
      "\n",
      "Epoch 00016: val_loss did not improve from 1.04326\n",
      "Epoch 17/72\n",
      "28/28 [==============================] - 39s 1s/step - loss: 0.9247 - accuracy: 0.6793 - val_loss: 1.0024 - val_accuracy: 0.6795\n",
      "\n",
      "Epoch 00017: val_loss improved from 1.04326 to 1.00240, saving model to saved_models\\weights.best.basic_cnn.hdf5\n",
      "Epoch 18/72\n",
      "28/28 [==============================] - 37s 1s/step - loss: 0.8869 - accuracy: 0.6916 - val_loss: 0.9776 - val_accuracy: 0.6777\n",
      "\n",
      "Epoch 00018: val_loss improved from 1.00240 to 0.97761, saving model to saved_models\\weights.best.basic_cnn.hdf5\n",
      "Epoch 19/72\n",
      "28/28 [==============================] - 37s 1s/step - loss: 0.8529 - accuracy: 0.7064 - val_loss: 0.9339 - val_accuracy: 0.6978\n",
      "\n",
      "Epoch 00019: val_loss improved from 0.97761 to 0.93393, saving model to saved_models\\weights.best.basic_cnn.hdf5\n",
      "Epoch 20/72\n",
      "28/28 [==============================] - 39s 1s/step - loss: 0.8191 - accuracy: 0.7228 - val_loss: 0.9021 - val_accuracy: 0.7058\n",
      "\n",
      "Epoch 00020: val_loss improved from 0.93393 to 0.90207, saving model to saved_models\\weights.best.basic_cnn.hdf5\n",
      "Epoch 21/72\n",
      "28/28 [==============================] - 36s 1s/step - loss: 0.8077 - accuracy: 0.7268 - val_loss: 0.8816 - val_accuracy: 0.7149\n",
      "\n",
      "Epoch 00021: val_loss improved from 0.90207 to 0.88163, saving model to saved_models\\weights.best.basic_cnn.hdf5\n",
      "Epoch 22/72\n",
      "28/28 [==============================] - 37s 1s/step - loss: 0.7910 - accuracy: 0.7266 - val_loss: 0.8828 - val_accuracy: 0.7167\n",
      "\n",
      "Epoch 00022: val_loss did not improve from 0.88163\n",
      "Epoch 23/72\n",
      "28/28 [==============================] - 37s 1s/step - loss: 0.7604 - accuracy: 0.7399 - val_loss: 0.8971 - val_accuracy: 0.7001\n",
      "\n",
      "Epoch 00023: val_loss did not improve from 0.88163\n",
      "Epoch 24/72\n",
      "28/28 [==============================] - 38s 1s/step - loss: 0.7352 - accuracy: 0.7506 - val_loss: 0.8213 - val_accuracy: 0.7304\n",
      "\n",
      "Epoch 00024: val_loss improved from 0.88163 to 0.82130, saving model to saved_models\\weights.best.basic_cnn.hdf5\n",
      "Epoch 25/72\n",
      "28/28 [==============================] - 39s 1s/step - loss: 0.7197 - accuracy: 0.7545 - val_loss: 0.8053 - val_accuracy: 0.7459\n",
      "\n",
      "Epoch 00025: val_loss improved from 0.82130 to 0.80526, saving model to saved_models\\weights.best.basic_cnn.hdf5\n",
      "Epoch 26/72\n",
      "28/28 [==============================] - 37s 1s/step - loss: 0.7074 - accuracy: 0.7565 - val_loss: 0.7551 - val_accuracy: 0.7590\n",
      "\n",
      "Epoch 00026: val_loss improved from 0.80526 to 0.75507, saving model to saved_models\\weights.best.basic_cnn.hdf5\n",
      "Epoch 27/72\n",
      "28/28 [==============================] - 35s 1s/step - loss: 0.6901 - accuracy: 0.7629 - val_loss: 0.7517 - val_accuracy: 0.7636\n",
      "\n",
      "Epoch 00027: val_loss improved from 0.75507 to 0.75173, saving model to saved_models\\weights.best.basic_cnn.hdf5\n",
      "Epoch 28/72\n",
      "28/28 [==============================] - 37s 1s/step - loss: 0.6621 - accuracy: 0.7717 - val_loss: 0.7381 - val_accuracy: 0.7619\n",
      "\n",
      "Epoch 00028: val_loss improved from 0.75173 to 0.73813, saving model to saved_models\\weights.best.basic_cnn.hdf5\n",
      "Epoch 29/72\n",
      "28/28 [==============================] - 38s 1s/step - loss: 0.6405 - accuracy: 0.7795 - val_loss: 0.7269 - val_accuracy: 0.7687\n",
      "\n",
      "Epoch 00029: val_loss improved from 0.73813 to 0.72690, saving model to saved_models\\weights.best.basic_cnn.hdf5\n",
      "Epoch 30/72\n",
      "28/28 [==============================] - 37s 1s/step - loss: 0.6294 - accuracy: 0.7860 - val_loss: 0.7296 - val_accuracy: 0.7705\n",
      "\n",
      "Epoch 00030: val_loss did not improve from 0.72690\n",
      "Epoch 31/72\n",
      "28/28 [==============================] - 39s 1s/step - loss: 0.6085 - accuracy: 0.7936 - val_loss: 0.7085 - val_accuracy: 0.7647\n",
      "\n",
      "Epoch 00031: val_loss improved from 0.72690 to 0.70853, saving model to saved_models\\weights.best.basic_cnn.hdf5\n",
      "Epoch 32/72\n",
      "28/28 [==============================] - 38s 1s/step - loss: 0.5865 - accuracy: 0.8016 - val_loss: 0.6989 - val_accuracy: 0.7670\n",
      "\n",
      "Epoch 00032: val_loss improved from 0.70853 to 0.69893, saving model to saved_models\\weights.best.basic_cnn.hdf5\n",
      "Epoch 33/72\n",
      "28/28 [==============================] - 37s 1s/step - loss: 0.6024 - accuracy: 0.7954 - val_loss: 0.6453 - val_accuracy: 0.7916\n",
      "\n",
      "Epoch 00033: val_loss improved from 0.69893 to 0.64531, saving model to saved_models\\weights.best.basic_cnn.hdf5\n",
      "Epoch 34/72\n",
      "28/28 [==============================] - 38s 1s/step - loss: 0.5710 - accuracy: 0.8043 - val_loss: 0.6414 - val_accuracy: 0.7876\n"
     ]
    },
    {
     "name": "stdout",
     "output_type": "stream",
     "text": [
      "\n",
      "Epoch 00034: val_loss improved from 0.64531 to 0.64141, saving model to saved_models\\weights.best.basic_cnn.hdf5\n",
      "Epoch 35/72\n",
      "28/28 [==============================] - 38s 1s/step - loss: 0.5662 - accuracy: 0.8064 - val_loss: 0.6468 - val_accuracy: 0.7825\n",
      "\n",
      "Epoch 00035: val_loss did not improve from 0.64141\n",
      "Epoch 36/72\n",
      "28/28 [==============================] - 38s 1s/step - loss: 0.5548 - accuracy: 0.8147 - val_loss: 0.6480 - val_accuracy: 0.7825\n",
      "\n",
      "Epoch 00036: val_loss did not improve from 0.64141\n",
      "Epoch 37/72\n",
      "28/28 [==============================] - 38s 1s/step - loss: 0.5440 - accuracy: 0.8183 - val_loss: 0.6141 - val_accuracy: 0.7928\n",
      "\n",
      "Epoch 00037: val_loss improved from 0.64141 to 0.61411, saving model to saved_models\\weights.best.basic_cnn.hdf5\n",
      "Epoch 38/72\n",
      "28/28 [==============================] - 38s 1s/step - loss: 0.5111 - accuracy: 0.8276 - val_loss: 0.6094 - val_accuracy: 0.7974\n",
      "\n",
      "Epoch 00038: val_loss improved from 0.61411 to 0.60938, saving model to saved_models\\weights.best.basic_cnn.hdf5\n",
      "Epoch 39/72\n",
      "28/28 [==============================] - 38s 1s/step - loss: 0.5172 - accuracy: 0.8219 - val_loss: 0.6803 - val_accuracy: 0.7699\n",
      "\n",
      "Epoch 00039: val_loss did not improve from 0.60938\n",
      "Epoch 40/72\n",
      "28/28 [==============================] - 38s 1s/step - loss: 0.5255 - accuracy: 0.8261 - val_loss: 0.5957 - val_accuracy: 0.7962\n",
      "\n",
      "Epoch 00040: val_loss improved from 0.60938 to 0.59567, saving model to saved_models\\weights.best.basic_cnn.hdf5\n",
      "Epoch 41/72\n",
      "28/28 [==============================] - 38s 1s/step - loss: 0.4938 - accuracy: 0.8324 - val_loss: 0.6043 - val_accuracy: 0.7939\n",
      "\n",
      "Epoch 00041: val_loss did not improve from 0.59567\n",
      "Epoch 42/72\n",
      "28/28 [==============================] - 38s 1s/step - loss: 0.4886 - accuracy: 0.8349 - val_loss: 0.5986 - val_accuracy: 0.8025\n",
      "\n",
      "Epoch 00042: val_loss did not improve from 0.59567\n",
      "Epoch 43/72\n",
      "28/28 [==============================] - 38s 1s/step - loss: 0.4792 - accuracy: 0.8399 - val_loss: 0.6191 - val_accuracy: 0.7894\n",
      "\n",
      "Epoch 00043: val_loss did not improve from 0.59567\n",
      "Epoch 44/72\n",
      "28/28 [==============================] - 38s 1s/step - loss: 0.4628 - accuracy: 0.8447 - val_loss: 0.5841 - val_accuracy: 0.8094\n",
      "\n",
      "Epoch 00044: val_loss improved from 0.59567 to 0.58406, saving model to saved_models\\weights.best.basic_cnn.hdf5\n",
      "Epoch 45/72\n",
      "28/28 [==============================] - 39s 1s/step - loss: 0.4599 - accuracy: 0.8452 - val_loss: 0.5845 - val_accuracy: 0.8077\n",
      "\n",
      "Epoch 00045: val_loss did not improve from 0.58406\n",
      "Epoch 46/72\n",
      "28/28 [==============================] - 42s 1s/step - loss: 0.4518 - accuracy: 0.8478 - val_loss: 0.5338 - val_accuracy: 0.8134\n",
      "\n",
      "Epoch 00046: val_loss improved from 0.58406 to 0.53375, saving model to saved_models\\weights.best.basic_cnn.hdf5\n",
      "Epoch 47/72\n",
      "28/28 [==============================] - 39s 1s/step - loss: 0.4278 - accuracy: 0.8545 - val_loss: 0.5068 - val_accuracy: 0.8323\n",
      "\n",
      "Epoch 00047: val_loss improved from 0.53375 to 0.50682, saving model to saved_models\\weights.best.basic_cnn.hdf5\n",
      "Epoch 48/72\n",
      "28/28 [==============================] - 38s 1s/step - loss: 0.4338 - accuracy: 0.8511 - val_loss: 0.5239 - val_accuracy: 0.8248\n",
      "\n",
      "Epoch 00048: val_loss did not improve from 0.50682\n",
      "Epoch 49/72\n",
      "28/28 [==============================] - 39s 1s/step - loss: 0.4342 - accuracy: 0.8554 - val_loss: 0.5307 - val_accuracy: 0.8174\n",
      "\n",
      "Epoch 00049: val_loss did not improve from 0.50682\n",
      "Epoch 50/72\n",
      "28/28 [==============================] - 39s 1s/step - loss: 0.4187 - accuracy: 0.8537 - val_loss: 0.4976 - val_accuracy: 0.8369\n",
      "\n",
      "Epoch 00050: val_loss improved from 0.50682 to 0.49757, saving model to saved_models\\weights.best.basic_cnn.hdf5\n",
      "Epoch 51/72\n",
      "28/28 [==============================] - 38s 1s/step - loss: 0.4149 - accuracy: 0.8604 - val_loss: 0.5449 - val_accuracy: 0.8134\n",
      "\n",
      "Epoch 00051: val_loss did not improve from 0.49757\n",
      "Epoch 52/72\n",
      "28/28 [==============================] - 38s 1s/step - loss: 0.4018 - accuracy: 0.8664 - val_loss: 0.4550 - val_accuracy: 0.8460\n",
      "\n",
      "Epoch 00052: val_loss improved from 0.49757 to 0.45503, saving model to saved_models\\weights.best.basic_cnn.hdf5\n",
      "Epoch 53/72\n",
      "28/28 [==============================] - 37s 1s/step - loss: 0.4004 - accuracy: 0.8628 - val_loss: 0.4779 - val_accuracy: 0.8472\n",
      "\n",
      "Epoch 00053: val_loss did not improve from 0.45503\n",
      "Epoch 54/72\n",
      "28/28 [==============================] - 37s 1s/step - loss: 0.3682 - accuracy: 0.8689 - val_loss: 0.5117 - val_accuracy: 0.8197\n",
      "\n",
      "Epoch 00054: val_loss did not improve from 0.45503\n",
      "Epoch 55/72\n",
      "28/28 [==============================] - 37s 1s/step - loss: 0.3692 - accuracy: 0.8733 - val_loss: 0.4695 - val_accuracy: 0.8443\n",
      "\n",
      "Epoch 00055: val_loss did not improve from 0.45503\n",
      "Epoch 56/72\n",
      "28/28 [==============================] - 38s 1s/step - loss: 0.3598 - accuracy: 0.8757 - val_loss: 0.4881 - val_accuracy: 0.8374\n",
      "\n",
      "Epoch 00056: val_loss did not improve from 0.45503\n",
      "Epoch 57/72\n",
      "28/28 [==============================] - 37s 1s/step - loss: 0.3623 - accuracy: 0.8806 - val_loss: 0.4614 - val_accuracy: 0.8569\n",
      "\n",
      "Epoch 00057: val_loss did not improve from 0.45503\n",
      "Epoch 58/72\n",
      "28/28 [==============================] - 38s 1s/step - loss: 0.3533 - accuracy: 0.8803 - val_loss: 0.4468 - val_accuracy: 0.8529\n",
      "\n",
      "Epoch 00058: val_loss improved from 0.45503 to 0.44677, saving model to saved_models\\weights.best.basic_cnn.hdf5\n",
      "Epoch 59/72\n",
      "28/28 [==============================] - 38s 1s/step - loss: 0.3535 - accuracy: 0.8783 - val_loss: 0.4505 - val_accuracy: 0.8558\n",
      "\n",
      "Epoch 00059: val_loss did not improve from 0.44677\n",
      "Epoch 60/72\n",
      "28/28 [==============================] - 38s 1s/step - loss: 0.3356 - accuracy: 0.8825 - val_loss: 0.4874 - val_accuracy: 0.8369\n",
      "\n",
      "Epoch 00060: val_loss did not improve from 0.44677\n",
      "Epoch 61/72\n",
      "28/28 [==============================] - 38s 1s/step - loss: 0.3448 - accuracy: 0.8817 - val_loss: 0.4764 - val_accuracy: 0.8432\n",
      "\n",
      "Epoch 00061: val_loss did not improve from 0.44677\n",
      "Epoch 62/72\n",
      "28/28 [==============================] - 37s 1s/step - loss: 0.3345 - accuracy: 0.8836 - val_loss: 0.4360 - val_accuracy: 0.8569\n",
      "\n",
      "Epoch 00062: val_loss improved from 0.44677 to 0.43601, saving model to saved_models\\weights.best.basic_cnn.hdf5\n",
      "Epoch 63/72\n",
      "28/28 [==============================] - 38s 1s/step - loss: 0.3260 - accuracy: 0.8873 - val_loss: 0.4576 - val_accuracy: 0.8546\n",
      "\n",
      "Epoch 00063: val_loss did not improve from 0.43601\n",
      "Epoch 64/72\n",
      "28/28 [==============================] - 38s 1s/step - loss: 0.3298 - accuracy: 0.8833 - val_loss: 0.4209 - val_accuracy: 0.8615\n",
      "\n",
      "Epoch 00064: val_loss improved from 0.43601 to 0.42085, saving model to saved_models\\weights.best.basic_cnn.hdf5\n",
      "Epoch 65/72\n",
      "28/28 [==============================] - 37s 1s/step - loss: 0.3197 - accuracy: 0.8893 - val_loss: 0.4046 - val_accuracy: 0.8689\n",
      "\n",
      "Epoch 00065: val_loss improved from 0.42085 to 0.40462, saving model to saved_models\\weights.best.basic_cnn.hdf5\n",
      "Epoch 66/72\n",
      "28/28 [==============================] - 38s 1s/step - loss: 0.3142 - accuracy: 0.8932 - val_loss: 0.4497 - val_accuracy: 0.8535\n",
      "\n",
      "Epoch 00066: val_loss did not improve from 0.40462\n",
      "Epoch 67/72\n",
      "28/28 [==============================] - 37s 1s/step - loss: 0.3182 - accuracy: 0.8922 - val_loss: 0.4585 - val_accuracy: 0.8517\n",
      "\n",
      "Epoch 00067: val_loss did not improve from 0.40462\n",
      "Epoch 68/72\n",
      "28/28 [==============================] - 37s 1s/step - loss: 0.3080 - accuracy: 0.8961 - val_loss: 0.4088 - val_accuracy: 0.8649\n",
      "\n",
      "Epoch 00068: val_loss did not improve from 0.40462\n",
      "Epoch 69/72\n",
      "28/28 [==============================] - 37s 1s/step - loss: 0.2843 - accuracy: 0.9012 - val_loss: 0.4533 - val_accuracy: 0.8552\n",
      "\n",
      "Epoch 00069: val_loss did not improve from 0.40462\n",
      "Epoch 70/72\n",
      "28/28 [==============================] - 37s 1s/step - loss: 0.2859 - accuracy: 0.9079 - val_loss: 0.4249 - val_accuracy: 0.8666\n",
      "\n",
      "Epoch 00070: val_loss did not improve from 0.40462\n",
      "Epoch 71/72\n",
      "28/28 [==============================] - 38s 1s/step - loss: 0.2884 - accuracy: 0.8984 - val_loss: 0.3880 - val_accuracy: 0.8741\n",
      "\n",
      "Epoch 00071: val_loss improved from 0.40462 to 0.38803, saving model to saved_models\\weights.best.basic_cnn.hdf5\n",
      "Epoch 72/72\n",
      "28/28 [==============================] - 40s 1s/step - loss: 0.2900 - accuracy: 0.8978 - val_loss: 0.3888 - val_accuracy: 0.8712\n"
     ]
    },
    {
     "name": "stdout",
     "output_type": "stream",
     "text": [
      "\n",
      "Epoch 00072: val_loss did not improve from 0.38803\n",
      "Training completed in time:  0:42:50.245160\n"
     ]
    }
   ],
   "source": [
    "from keras.callbacks import ModelCheckpoint \n",
    "from datetime import datetime \n",
    "\n",
    "#num_epochs = 12\n",
    "#num_batch_size = 128\n",
    "\n",
    "num_epochs = 72\n",
    "num_batch_size = 256\n",
    "\n",
    "checkpointer = ModelCheckpoint(filepath='saved_models/weights.best.basic_cnn.hdf5', \n",
    "                               verbose=1, save_best_only=True)\n",
    "start = datetime.now()\n",
    "\n",
    "model.fit(x_train, y_train, batch_size=num_batch_size, epochs=num_epochs, validation_data=(x_test, y_test), callbacks=[checkpointer], verbose=1)\n",
    "\n",
    "\n",
    "duration = datetime.now() - start\n",
    "print(\"Training completed in time: \", duration)"
   ]
  },
  {
   "cell_type": "markdown",
   "metadata": {},
   "source": [
    "### Test the model \n",
    "\n",
    "Here we will review the accuracy of the model on both the training and test data sets. "
   ]
  },
  {
   "cell_type": "code",
   "execution_count": 12,
   "metadata": {},
   "outputs": [
    {
     "name": "stdout",
     "output_type": "stream",
     "text": [
      "Training Accuracy:  0.9341446161270142\n",
      "Testing Accuracy:  0.8712077736854553\n"
     ]
    }
   ],
   "source": [
    "# Evaluating the model on the training and testing set\n",
    "score = model.evaluate(x_train, y_train, verbose=0)\n",
    "print(\"Training Accuracy: \", score[1])\n",
    "\n",
    "score = model.evaluate(x_test, y_test, verbose=0)\n",
    "print(\"Testing Accuracy: \", score[1])"
   ]
  },
  {
   "cell_type": "markdown",
   "metadata": {},
   "source": [
    "The Training and Testing accuracy scores are both high and an increase on our initial model. Training accuracy has increased by ~6% and Testing accuracy has increased by ~4%. \n",
    "\n",
    "There is a marginal increase in the difference between the Training and Test scores (~6% compared to ~5% previously) though the difference remains low so the model has not suffered from overfitting. "
   ]
  },
  {
   "cell_type": "markdown",
   "metadata": {},
   "source": [
    "### Predictions  \n",
    "\n",
    "Here we will modify our previous method for testing the models predictions on a specified audio .wav file. "
   ]
  },
  {
   "cell_type": "code",
   "execution_count": 13,
   "metadata": {},
   "outputs": [],
   "source": [
    "def print_prediction(file_name):\n",
    "    prediction_feature = extract_features(file_name) \n",
    "    prediction_feature = prediction_feature.reshape(1, num_rows, num_columns, num_channels)\n",
    "\n",
    "    predicted_vector = model.predict_classes(prediction_feature)\n",
    "    predicted_class = le.inverse_transform(predicted_vector) \n",
    "    print(\"The predicted class is:\", predicted_class[0], '\\n') \n",
    "\n",
    "    predicted_proba_vector = model.predict_proba(prediction_feature) \n",
    "    predicted_proba = predicted_proba_vector[0]\n",
    "    for i in range(len(predicted_proba)): \n",
    "        category = le.inverse_transform(np.array([i]))\n",
    "        print(category[0], \"\\t\\t : \", format(predicted_proba[i], '.32f') )"
   ]
  },
  {
   "cell_type": "markdown",
   "metadata": {},
   "source": [
    "### Validation \n",
    "\n",
    "#### Test with sample data \n",
    "\n",
    "As before we will verify the predictions using a subsection of the sample audio files we explored in the first notebook. We expect the bulk of these to be classified correctly. "
   ]
  },
  {
   "cell_type": "code",
   "execution_count": 14,
   "metadata": {},
   "outputs": [
    {
     "name": "stderr",
     "output_type": "stream",
     "text": [
      "C:\\Users\\Simriti Koul\\Anaconda New\\envs\\Capstone\\lib\\site-packages\\keras\\engine\\sequential.py:450: UserWarning: `model.predict_classes()` is deprecated and will be removed after 2021-01-01. Please use instead:* `np.argmax(model.predict(x), axis=-1)`,   if your model does multi-class classification   (e.g. if it uses a `softmax` last-layer activation).* `(model.predict(x) > 0.5).astype(\"int32\")`,   if your model does binary classification   (e.g. if it uses a `sigmoid` last-layer activation).\n",
      "  warnings.warn('`model.predict_classes()` is deprecated and '\n"
     ]
    },
    {
     "name": "stdout",
     "output_type": "stream",
     "text": [
      "The predicted class is: air_conditioner \n",
      "\n",
      "air_conditioner \t\t :  0.98654663562774658203125000000000\n",
      "car_horn \t\t :  0.00000365796358892112039029598236\n",
      "children_playing \t\t :  0.00373674952425062656402587890625\n",
      "dog_bark \t\t :  0.00031396126723848283290863037109\n",
      "drilling \t\t :  0.00213159387931227684020996093750\n",
      "engine_idling \t\t :  0.00406803796067833900451660156250\n",
      "gun_shot \t\t :  0.00000933662704483140259981155396\n",
      "jackhammer \t\t :  0.00316123594529926776885986328125\n",
      "siren \t\t :  0.00000129648049096431350335478783\n",
      "street_music \t\t :  0.00002752682303253095597028732300\n"
     ]
    },
    {
     "name": "stderr",
     "output_type": "stream",
     "text": [
      "C:\\Users\\Simriti Koul\\Anaconda New\\envs\\Capstone\\lib\\site-packages\\keras\\engine\\sequential.py:425: UserWarning: `model.predict_proba()` is deprecated and will be removed after 2021-01-01. Please use `model.predict()` instead.\n",
      "  warnings.warn('`model.predict_proba()` is deprecated and '\n"
     ]
    }
   ],
   "source": [
    "# Class: Air Conditioner\n",
    "\n",
    "filename = (r\"C:\\Users\\Simriti Koul\\Desktop\\CAPSTONE\\UrbanSound8K.tar\\UrbanSound8K\\train\\fold5\\100852-0-0-0.wav\") \n",
    "print_prediction(filename) "
   ]
  },
  {
   "cell_type": "code",
   "execution_count": 15,
   "metadata": {
    "scrolled": true
   },
   "outputs": [
    {
     "name": "stdout",
     "output_type": "stream",
     "text": [
      "The predicted class is: drilling \n",
      "\n",
      "air_conditioner \t\t :  0.00000014084022836868825834244490\n",
      "car_horn \t\t :  0.02140823565423488616943359375000\n",
      "children_playing \t\t :  0.00003284804915892891585826873779\n",
      "dog_bark \t\t :  0.00000577101127419155091047286987\n",
      "drilling \t\t :  0.88445901870727539062500000000000\n",
      "engine_idling \t\t :  0.00000012620598965895624132826924\n",
      "gun_shot \t\t :  0.00000104415573787264293059706688\n",
      "jackhammer \t\t :  0.00000748574166209436953067779541\n",
      "siren \t\t :  0.00000002659186293385573662817478\n",
      "street_music \t\t :  0.09408541023731231689453125000000\n"
     ]
    }
   ],
   "source": [
    "# Class: Drilling\n",
    "\n",
    "filename = (r\"C:\\Users\\Simriti Koul\\Desktop\\CAPSTONE\\UrbanSound8K.tar\\UrbanSound8K\\train\\fold3\\103199-4-0-0.wav\")\n",
    "print_prediction(filename) "
   ]
  },
  {
   "cell_type": "code",
   "execution_count": 16,
   "metadata": {},
   "outputs": [
    {
     "name": "stdout",
     "output_type": "stream",
     "text": [
      "The predicted class is: street_music \n",
      "\n",
      "air_conditioner \t\t :  0.00064984644996002316474914550781\n",
      "car_horn \t\t :  0.00292213051579892635345458984375\n",
      "children_playing \t\t :  0.02916814200580120086669921875000\n",
      "dog_bark \t\t :  0.00079743505921214818954467773438\n",
      "drilling \t\t :  0.00000521766332894912920892238617\n",
      "engine_idling \t\t :  0.00000295795189231284894049167633\n",
      "gun_shot \t\t :  0.00000000020001218736798165309665\n",
      "jackhammer \t\t :  0.00000089540787939768051728606224\n",
      "siren \t\t :  0.01239700336009263992309570312500\n",
      "street_music \t\t :  0.95405632257461547851562500000000\n"
     ]
    }
   ],
   "source": [
    "# Class: Street music \n",
    "\n",
    "filename = (r\"C:\\Users\\Simriti Koul\\Desktop\\CAPSTONE\\UrbanSound8K.tar\\UrbanSound8K\\train\\fold7\\101848-9-0-0.wav\")\n",
    "print_prediction(filename) "
   ]
  },
  {
   "cell_type": "code",
   "execution_count": 17,
   "metadata": {},
   "outputs": [
    {
     "name": "stdout",
     "output_type": "stream",
     "text": [
      "The predicted class is: car_horn \n",
      "\n",
      "air_conditioner \t\t :  0.00219908985309302806854248046875\n",
      "car_horn \t\t :  0.30767381191253662109375000000000\n",
      "children_playing \t\t :  0.00892277713865041732788085937500\n",
      "dog_bark \t\t :  0.09442199766635894775390625000000\n",
      "drilling \t\t :  0.25490027666091918945312500000000\n",
      "engine_idling \t\t :  0.01859729923307895660400390625000\n",
      "gun_shot \t\t :  0.07564551383256912231445312500000\n",
      "jackhammer \t\t :  0.20189863443374633789062500000000\n",
      "siren \t\t :  0.03126519173383712768554687500000\n",
      "street_music \t\t :  0.00447552790865302085876464843750\n"
     ]
    }
   ],
   "source": [
    "# Class: Car Horn \n",
    "\n",
    "filename = (r\"C:\\Users\\Simriti Koul\\Desktop\\CAPSTONE\\UrbanSound8K.tar\\UrbanSound8K\\train\\fold10\\100648-1-0-0.wav\")\n",
    "print_prediction(filename) "
   ]
  },
  {
   "cell_type": "markdown",
   "metadata": {},
   "source": [
    "#### Observations \n",
    "\n",
    "We can see that the model performs well. \n",
    "\n",
    "Interestingly, car horn was again incorrectly classifed but this time as drilling - though the per class confidence shows it was a close decision between car horn with 26% confidence and drilling at 34% confidence.  "
   ]
  },
  {
   "cell_type": "markdown",
   "metadata": {},
   "source": [
    "### Other audio\n",
    "\n",
    "Again we will further validate our model using a sample of various copyright free sounds that we not part of either our test or training data. "
   ]
  },
  {
   "cell_type": "code",
   "execution_count": 18,
   "metadata": {},
   "outputs": [
    {
     "name": "stdout",
     "output_type": "stream",
     "text": [
      "The predicted class is: dog_bark \n",
      "\n",
      "air_conditioner \t\t :  0.00169448740780353546142578125000\n",
      "car_horn \t\t :  0.02364376187324523925781250000000\n",
      "children_playing \t\t :  0.00123100646305829286575317382812\n",
      "dog_bark \t\t :  0.88138276338577270507812500000000\n",
      "drilling \t\t :  0.04747003316879272460937500000000\n",
      "engine_idling \t\t :  0.00059739599237218499183654785156\n",
      "gun_shot \t\t :  0.03793414682149887084960937500000\n",
      "jackhammer \t\t :  0.00192393758334219455718994140625\n",
      "siren \t\t :  0.00134987547062337398529052734375\n",
      "street_music \t\t :  0.00277261622250080108642578125000\n"
     ]
    }
   ],
   "source": [
    "filename = (r\"C:\\Users\\Simriti Koul\\Desktop\\CAPSTONE\\Evaluation audio\\dog_bark_1.wav\")\n",
    "print_prediction(filename) "
   ]
  },
  {
   "cell_type": "code",
   "execution_count": 19,
   "metadata": {
    "scrolled": true
   },
   "outputs": [
    {
     "name": "stdout",
     "output_type": "stream",
     "text": [
      "The predicted class is: jackhammer \n",
      "\n",
      "air_conditioner \t\t :  0.01153741963207721710205078125000\n",
      "car_horn \t\t :  0.00212912564165890216827392578125\n",
      "children_playing \t\t :  0.00002556872641434893012046813965\n",
      "dog_bark \t\t :  0.00049320107791572809219360351562\n",
      "drilling \t\t :  0.08964597433805465698242187500000\n",
      "engine_idling \t\t :  0.00117059098556637763977050781250\n",
      "gun_shot \t\t :  0.00000086370192775575560517609119\n",
      "jackhammer \t\t :  0.89416062831878662109375000000000\n",
      "siren \t\t :  0.00076230237027630209922790527344\n",
      "street_music \t\t :  0.00007435309089487418532371520996\n"
     ]
    }
   ],
   "source": [
    "filename = (r\"C:\\Users\\Simriti Koul\\Desktop\\CAPSTONE\\Evaluation audio\\drilling_1.wav\")\n",
    "\n",
    "print_prediction(filename) "
   ]
  },
  {
   "cell_type": "code",
   "execution_count": 20,
   "metadata": {},
   "outputs": [
    {
     "name": "stdout",
     "output_type": "stream",
     "text": [
      "The predicted class is: gun_shot \n",
      "\n",
      "air_conditioner \t\t :  0.00051879772217944264411926269531\n",
      "car_horn \t\t :  0.00005635288107441738247871398926\n",
      "children_playing \t\t :  0.00134165945928543806076049804688\n",
      "dog_bark \t\t :  0.15568615496158599853515625000000\n",
      "drilling \t\t :  0.01065753120929002761840820312500\n",
      "engine_idling \t\t :  0.00056926830438897013664245605469\n",
      "gun_shot \t\t :  0.83017569780349731445312500000000\n",
      "jackhammer \t\t :  0.00000720739217285881750285625458\n",
      "siren \t\t :  0.00025452961563132703304290771484\n",
      "street_music \t\t :  0.00073273148154839873313903808594\n"
     ]
    }
   ],
   "source": [
    "filename = (r\"C:\\Users\\Simriti Koul\\Desktop\\CAPSTONE\\Evaluation audio\\gun_shot_1.wav\")\n",
    "\n",
    "print_prediction(filename) "
   ]
  },
  {
   "cell_type": "markdown",
   "metadata": {},
   "source": [
    "#### Observations \n",
    "\n",
    "The performance of our final model is very good and has generalised well, seeming to predict well when tested against new audio data. "
   ]
  },
  {
   "cell_type": "code",
   "execution_count": null,
   "metadata": {},
   "outputs": [],
   "source": []
  }
 ],
 "metadata": {
  "kernelspec": {
   "display_name": "Python 3",
   "language": "python",
   "name": "python3"
  },
  "language_info": {
   "codemirror_mode": {
    "name": "ipython",
    "version": 3
   },
   "file_extension": ".py",
   "mimetype": "text/x-python",
   "name": "python",
   "nbconvert_exporter": "python",
   "pygments_lexer": "ipython3",
   "version": "3.6.5"
  }
 },
 "nbformat": 4,
 "nbformat_minor": 2
}
