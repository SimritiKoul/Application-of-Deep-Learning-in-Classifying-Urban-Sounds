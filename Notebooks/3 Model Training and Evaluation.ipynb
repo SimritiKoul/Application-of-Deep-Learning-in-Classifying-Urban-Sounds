{
 "cells": [
  {
   "cell_type": "markdown",
   "metadata": {},
   "source": [
    "# Classifying Urban sounds using Deep Learning\n",
    "\n",
    "## 3 Model Training and Evaluation "
   ]
  },
  {
   "cell_type": "markdown",
   "metadata": {},
   "source": [
    "### Load Preprocessed data "
   ]
  },
  {
   "cell_type": "code",
   "execution_count": 1,
   "metadata": {},
   "outputs": [],
   "source": [
    "# retrieve the preprocessed data from previous notebook\n",
    "\n",
    "%store -r x_train \n",
    "%store -r x_test \n",
    "%store -r y_train \n",
    "%store -r y_test \n",
    "%store -r yy \n",
    "%store -r le"
   ]
  },
  {
   "cell_type": "markdown",
   "metadata": {},
   "source": [
    "### Initial model architecture - MLP\n",
    "\n",
    "We will start with constructing a Multilayer Perceptron (MLP) Neural Network using Keras and a Tensorflow backend. \n",
    "\n",
    "Starting with a `sequential` model so we can build the model layer by layer. \n",
    "\n",
    "We will begin with a simple model architecture, consisting of three layers, an input layer, a hidden layer and an output layer. All three layers will be of the `dense` layer type which is a standard layer type that is used in many cases for neural networks. \n",
    "\n",
    "The first layer will receive the input shape. As each sample contains 40 MFCCs (or columns) we have a shape of (1x40) this means we will start with an input shape of 40. \n",
    "\n",
    "The first two layers will have 256 nodes. The activation function we will be using for our first 2 layers is the `ReLU`, or `Rectified Linear Activation`. This activation function has been proven to work well in neural networks.\n",
    "\n",
    "We will also apply a `Dropout` value of 50% on our first two layers. This will randomly exclude nodes from each update cycle which in turn results in a network that is capable of better generalisation and is less likely to overfit the training data.\n",
    "\n",
    "Our output layer will have 10 nodes (num_labels) which matches the number of possible classifications. The activation is for our output layer is `softmax`. Softmax makes the output sum up to 1 so the output can be interpreted as probabilities. The model will then make its prediction based on which option has the highest probability."
   ]
  },
  {
   "cell_type": "code",
   "execution_count": 2,
   "metadata": {},
   "outputs": [],
   "source": [
    "import numpy as np\n",
    "from keras.models import Sequential\n",
    "from keras.layers import Dense, Dropout, Activation, Flatten\n",
    "from keras.layers import Convolution2D, MaxPooling2D\n",
    "from keras.optimizers import Adam\n",
    "from keras.utils import np_utils\n",
    "from sklearn import metrics \n",
    "\n",
    "num_labels = yy.shape[1]\n",
    "filter_size = 2\n",
    "\n",
    "# Construct model \n",
    "model = Sequential()\n",
    "\n",
    "model.add(Dense(256, input_shape=(40,)))\n",
    "model.add(Activation('relu'))\n",
    "model.add(Dropout(0.5))\n",
    "\n",
    "model.add(Dense(256))\n",
    "model.add(Activation('relu'))\n",
    "model.add(Dropout(0.5))\n",
    "\n",
    "model.add(Dense(num_labels))\n",
    "model.add(Activation('softmax'))"
   ]
  },
  {
   "cell_type": "markdown",
   "metadata": {},
   "source": [
    "### Compiling the model \n",
    "\n",
    "For compiling our model, we will use the following three parameters: \n",
    "\n",
    "* Loss function - we will use `categorical_crossentropy`. This is the most common choice for classification. A lower score indicates that the model is performing better.\n",
    "\n",
    "* Metrics - we will use the `accuracy` metric which will allow us to view the accuracy score on the validation data when we train the model. \n",
    "\n",
    "* Optimizer - here we will use `adam` which is a generally good optimizer for many use cases.\n"
   ]
  },
  {
   "cell_type": "code",
   "execution_count": 3,
   "metadata": {},
   "outputs": [],
   "source": [
    "# Compile the model\n",
    "model.compile(loss='categorical_crossentropy', metrics=['accuracy'], optimizer='adam') "
   ]
  },
  {
   "cell_type": "code",
   "execution_count": 4,
   "metadata": {},
   "outputs": [
    {
     "name": "stdout",
     "output_type": "stream",
     "text": [
      "Model: \"sequential\"\n",
      "_________________________________________________________________\n",
      "Layer (type)                 Output Shape              Param #   \n",
      "=================================================================\n",
      "dense (Dense)                (None, 256)               10496     \n",
      "_________________________________________________________________\n",
      "activation (Activation)      (None, 256)               0         \n",
      "_________________________________________________________________\n",
      "dropout (Dropout)            (None, 256)               0         \n",
      "_________________________________________________________________\n",
      "dense_1 (Dense)              (None, 256)               65792     \n",
      "_________________________________________________________________\n",
      "activation_1 (Activation)    (None, 256)               0         \n",
      "_________________________________________________________________\n",
      "dropout_1 (Dropout)          (None, 256)               0         \n",
      "_________________________________________________________________\n",
      "dense_2 (Dense)              (None, 10)                2570      \n",
      "_________________________________________________________________\n",
      "activation_2 (Activation)    (None, 10)                0         \n",
      "=================================================================\n",
      "Total params: 78,858\n",
      "Trainable params: 78,858\n",
      "Non-trainable params: 0\n",
      "_________________________________________________________________\n",
      "Pre-training accuracy: 11.8489%\n"
     ]
    }
   ],
   "source": [
    "# Display model architecture summary \n",
    "model.summary()\n",
    "\n",
    "# Calculate pre-training accuracy \n",
    "score = model.evaluate(x_test, y_test, verbose=0)\n",
    "accuracy = 100*score[1]\n",
    "\n",
    "print(\"Pre-training accuracy: %.4f%%\" % accuracy)"
   ]
  },
  {
   "cell_type": "markdown",
   "metadata": {},
   "source": [
    "### Training \n",
    "\n",
    "Here we will train the model. \n",
    "\n",
    "We will start with 100 epochs which is the number of times the model will cycle through the data. The model will improve on each cycle until it reaches a certain point. \n",
    "\n",
    "We will also start with a low batch size, as having a large batch size can reduce the generalisation ability of the model. "
   ]
  },
  {
   "cell_type": "code",
   "execution_count": 5,
   "metadata": {},
   "outputs": [
    {
     "name": "stdout",
     "output_type": "stream",
     "text": [
      "Epoch 1/100\n",
      "219/219 [==============================] - 4s 3ms/step - loss: 9.3813 - accuracy: 0.1984 - val_loss: 2.1696 - val_accuracy: 0.2318\n",
      "\n",
      "Epoch 00001: val_loss improved from inf to 2.16960, saving model to saved_models\\weights.best.basic_mlp.hdf5\n",
      "Epoch 2/100\n",
      "219/219 [==============================] - 1s 3ms/step - loss: 2.2757 - accuracy: 0.2372 - val_loss: 2.0606 - val_accuracy: 0.2604\n",
      "\n",
      "Epoch 00002: val_loss improved from 2.16960 to 2.06056, saving model to saved_models\\weights.best.basic_mlp.hdf5\n",
      "Epoch 3/100\n",
      "219/219 [==============================] - 1s 4ms/step - loss: 2.0418 - accuracy: 0.2911 - val_loss: 1.8194 - val_accuracy: 0.3927\n",
      "\n",
      "Epoch 00003: val_loss improved from 2.06056 to 1.81939, saving model to saved_models\\weights.best.basic_mlp.hdf5\n",
      "Epoch 4/100\n",
      "219/219 [==============================] - 1s 3ms/step - loss: 1.8972 - accuracy: 0.3394 - val_loss: 1.6867 - val_accuracy: 0.4367\n",
      "\n",
      "Epoch 00004: val_loss improved from 1.81939 to 1.68668, saving model to saved_models\\weights.best.basic_mlp.hdf5\n",
      "Epoch 5/100\n",
      "219/219 [==============================] - 1s 4ms/step - loss: 1.7820 - accuracy: 0.3821 - val_loss: 1.6024 - val_accuracy: 0.4659\n",
      "\n",
      "Epoch 00005: val_loss improved from 1.68668 to 1.60236, saving model to saved_models\\weights.best.basic_mlp.hdf5\n",
      "Epoch 6/100\n",
      "219/219 [==============================] - 1s 4ms/step - loss: 1.6910 - accuracy: 0.4130 - val_loss: 1.4462 - val_accuracy: 0.5547\n",
      "\n",
      "Epoch 00006: val_loss improved from 1.60236 to 1.44620, saving model to saved_models\\weights.best.basic_mlp.hdf5\n",
      "Epoch 7/100\n",
      "219/219 [==============================] - 1s 5ms/step - loss: 1.5689 - accuracy: 0.4503 - val_loss: 1.3005 - val_accuracy: 0.5781\n",
      "\n",
      "Epoch 00007: val_loss improved from 1.44620 to 1.30049, saving model to saved_models\\weights.best.basic_mlp.hdf5\n",
      "Epoch 8/100\n",
      "219/219 [==============================] - 1s 4ms/step - loss: 1.4777 - accuracy: 0.4869 - val_loss: 1.2391 - val_accuracy: 0.6131\n",
      "\n",
      "Epoch 00008: val_loss improved from 1.30049 to 1.23906, saving model to saved_models\\weights.best.basic_mlp.hdf5\n",
      "Epoch 9/100\n",
      "219/219 [==============================] - 1s 4ms/step - loss: 1.4043 - accuracy: 0.5158 - val_loss: 1.1693 - val_accuracy: 0.6188\n",
      "\n",
      "Epoch 00009: val_loss improved from 1.23906 to 1.16934, saving model to saved_models\\weights.best.basic_mlp.hdf5\n",
      "Epoch 10/100\n",
      "219/219 [==============================] - 1s 3ms/step - loss: 1.3241 - accuracy: 0.5393 - val_loss: 1.1059 - val_accuracy: 0.6434\n",
      "\n",
      "Epoch 00010: val_loss improved from 1.16934 to 1.10593, saving model to saved_models\\weights.best.basic_mlp.hdf5\n",
      "Epoch 11/100\n",
      "219/219 [==============================] - 1s 3ms/step - loss: 1.2715 - accuracy: 0.5638 - val_loss: 1.0633 - val_accuracy: 0.6680\n",
      "\n",
      "Epoch 00011: val_loss improved from 1.10593 to 1.06326, saving model to saved_models\\weights.best.basic_mlp.hdf5\n",
      "Epoch 12/100\n",
      "219/219 [==============================] - 1s 3ms/step - loss: 1.2409 - accuracy: 0.5744 - val_loss: 0.9886 - val_accuracy: 0.6869\n",
      "\n",
      "Epoch 00012: val_loss improved from 1.06326 to 0.98860, saving model to saved_models\\weights.best.basic_mlp.hdf5\n",
      "Epoch 13/100\n",
      "219/219 [==============================] - 1s 4ms/step - loss: 1.1853 - accuracy: 0.5957 - val_loss: 0.9603 - val_accuracy: 0.6909\n",
      "\n",
      "Epoch 00013: val_loss improved from 0.98860 to 0.96027, saving model to saved_models\\weights.best.basic_mlp.hdf5\n",
      "Epoch 14/100\n",
      "219/219 [==============================] - 1s 3ms/step - loss: 1.1526 - accuracy: 0.6084 - val_loss: 0.9469 - val_accuracy: 0.7023\n",
      "\n",
      "Epoch 00014: val_loss improved from 0.96027 to 0.94686, saving model to saved_models\\weights.best.basic_mlp.hdf5\n",
      "Epoch 15/100\n",
      "219/219 [==============================] - 1s 3ms/step - loss: 1.0858 - accuracy: 0.6286 - val_loss: 0.8907 - val_accuracy: 0.7104\n",
      "\n",
      "Epoch 00015: val_loss improved from 0.94686 to 0.89074, saving model to saved_models\\weights.best.basic_mlp.hdf5\n",
      "Epoch 16/100\n",
      "219/219 [==============================] - 1s 5ms/step - loss: 1.0537 - accuracy: 0.6395 - val_loss: 0.8347 - val_accuracy: 0.7281\n",
      "\n",
      "Epoch 00016: val_loss improved from 0.89074 to 0.83467, saving model to saved_models\\weights.best.basic_mlp.hdf5\n",
      "Epoch 17/100\n",
      "219/219 [==============================] - 1s 3ms/step - loss: 1.0190 - accuracy: 0.6537 - val_loss: 0.7971 - val_accuracy: 0.7487\n",
      "\n",
      "Epoch 00017: val_loss improved from 0.83467 to 0.79709, saving model to saved_models\\weights.best.basic_mlp.hdf5\n",
      "Epoch 18/100\n",
      "219/219 [==============================] - 1s 6ms/step - loss: 1.0083 - accuracy: 0.6577 - val_loss: 0.7910 - val_accuracy: 0.7636\n",
      "\n",
      "Epoch 00018: val_loss improved from 0.79709 to 0.79097, saving model to saved_models\\weights.best.basic_mlp.hdf5\n",
      "Epoch 19/100\n",
      "219/219 [==============================] - 1s 7ms/step - loss: 0.9803 - accuracy: 0.6684 - val_loss: 0.7426 - val_accuracy: 0.7653\n",
      "\n",
      "Epoch 00019: val_loss improved from 0.79097 to 0.74260, saving model to saved_models\\weights.best.basic_mlp.hdf5\n",
      "Epoch 20/100\n",
      "219/219 [==============================] - 1s 5ms/step - loss: 0.9541 - accuracy: 0.6713 - val_loss: 0.7536 - val_accuracy: 0.7602\n",
      "\n",
      "Epoch 00020: val_loss did not improve from 0.74260\n",
      "Epoch 21/100\n",
      "219/219 [==============================] - 1s 3ms/step - loss: 0.9219 - accuracy: 0.6853 - val_loss: 0.7291 - val_accuracy: 0.7779\n",
      "\n",
      "Epoch 00021: val_loss improved from 0.74260 to 0.72906, saving model to saved_models\\weights.best.basic_mlp.hdf5\n",
      "Epoch 22/100\n",
      "219/219 [==============================] - 1s 4ms/step - loss: 0.9115 - accuracy: 0.6921 - val_loss: 0.6780 - val_accuracy: 0.7825.9184 - accuracy\n",
      "\n",
      "Epoch 00022: val_loss improved from 0.72906 to 0.67803, saving model to saved_models\\weights.best.basic_mlp.hdf5\n",
      "Epoch 23/100\n",
      "219/219 [==============================] - 1s 3ms/step - loss: 0.8891 - accuracy: 0.6928 - val_loss: 0.6950 - val_accuracy: 0.7836\n",
      "\n",
      "Epoch 00023: val_loss did not improve from 0.67803\n",
      "Epoch 24/100\n",
      "219/219 [==============================] - 1s 3ms/step - loss: 0.8701 - accuracy: 0.7069 - val_loss: 0.6752 - val_accuracy: 0.7968\n",
      "\n",
      "Epoch 00024: val_loss improved from 0.67803 to 0.67520, saving model to saved_models\\weights.best.basic_mlp.hdf5\n",
      "Epoch 25/100\n",
      "219/219 [==============================] - 1s 5ms/step - loss: 0.8354 - accuracy: 0.7145 - val_loss: 0.6449 - val_accuracy: 0.8054\n",
      "\n",
      "Epoch 00025: val_loss improved from 0.67520 to 0.64494, saving model to saved_models\\weights.best.basic_mlp.hdf5\n",
      "Epoch 26/100\n",
      "219/219 [==============================] - 1s 4ms/step - loss: 0.8344 - accuracy: 0.7167 - val_loss: 0.6337 - val_accuracy: 0.8002\n",
      "\n",
      "Epoch 00026: val_loss improved from 0.64494 to 0.63372, saving model to saved_models\\weights.best.basic_mlp.hdf5\n",
      "Epoch 27/100\n",
      "219/219 [==============================] - 1s 6ms/step - loss: 0.8000 - accuracy: 0.7301 - val_loss: 0.6399 - val_accuracy: 0.7979\n",
      "\n",
      "Epoch 00027: val_loss did not improve from 0.63372\n",
      "Epoch 28/100\n",
      "219/219 [==============================] - 1s 4ms/step - loss: 0.7913 - accuracy: 0.7323 - val_loss: 0.6157 - val_accuracy: 0.8111\n",
      "\n",
      "Epoch 00028: val_loss improved from 0.63372 to 0.61569, saving model to saved_models\\weights.best.basic_mlp.hdf5\n",
      "Epoch 29/100\n",
      "219/219 [==============================] - 1s 6ms/step - loss: 0.7882 - accuracy: 0.7301 - val_loss: 0.6208 - val_accuracy: 0.8025\n",
      "\n",
      "Epoch 00029: val_loss did not improve from 0.61569\n",
      "Epoch 30/100\n",
      "219/219 [==============================] - 1s 7ms/step - loss: 0.7919 - accuracy: 0.7346 - val_loss: 0.6239 - val_accuracy: 0.8145\n",
      "\n",
      "Epoch 00030: val_loss did not improve from 0.61569\n",
      "Epoch 31/100\n",
      "219/219 [==============================] - 1s 4ms/step - loss: 0.7619 - accuracy: 0.7406 - val_loss: 0.5946 - val_accuracy: 0.8157\n",
      "\n",
      "Epoch 00031: val_loss improved from 0.61569 to 0.59460, saving model to saved_models\\weights.best.basic_mlp.hdf5\n",
      "Epoch 32/100\n",
      "219/219 [==============================] - 1s 4ms/step - loss: 0.7402 - accuracy: 0.7473 - val_loss: 0.5973 - val_accuracy: 0.8134\n",
      "\n",
      "Epoch 00032: val_loss did not improve from 0.59460\n",
      "Epoch 33/100\n",
      "219/219 [==============================] - 1s 3ms/step - loss: 0.7502 - accuracy: 0.7446 - val_loss: 0.5733 - val_accuracy: 0.8220\n",
      "\n",
      "Epoch 00033: val_loss improved from 0.59460 to 0.57329, saving model to saved_models\\weights.best.basic_mlp.hdf5\n",
      "Epoch 34/100\n"
     ]
    },
    {
     "name": "stdout",
     "output_type": "stream",
     "text": [
      "219/219 [==============================] - 1s 3ms/step - loss: 0.7387 - accuracy: 0.7470 - val_loss: 0.5578 - val_accuracy: 0.8311\n",
      "\n",
      "Epoch 00034: val_loss improved from 0.57329 to 0.55781, saving model to saved_models\\weights.best.basic_mlp.hdf5\n",
      "Epoch 35/100\n",
      "219/219 [==============================] - 1s 4ms/step - loss: 0.7276 - accuracy: 0.7563 - val_loss: 0.5547 - val_accuracy: 0.8403\n",
      "\n",
      "Epoch 00035: val_loss improved from 0.55781 to 0.55471, saving model to saved_models\\weights.best.basic_mlp.hdf5\n",
      "Epoch 36/100\n",
      "219/219 [==============================] - 1s 4ms/step - loss: 0.7176 - accuracy: 0.7539 - val_loss: 0.5347 - val_accuracy: 0.8340\n",
      "\n",
      "Epoch 00036: val_loss improved from 0.55471 to 0.53465, saving model to saved_models\\weights.best.basic_mlp.hdf5\n",
      "Epoch 37/100\n",
      "219/219 [==============================] - 1s 3ms/step - loss: 0.7126 - accuracy: 0.7592 - val_loss: 0.5430 - val_accuracy: 0.8357\n",
      "\n",
      "Epoch 00037: val_loss did not improve from 0.53465\n",
      "Epoch 38/100\n",
      "219/219 [==============================] - 1s 3ms/step - loss: 0.6918 - accuracy: 0.7675 - val_loss: 0.5552 - val_accuracy: 0.8294\n",
      "\n",
      "Epoch 00038: val_loss did not improve from 0.53465\n",
      "Epoch 39/100\n",
      "219/219 [==============================] - 1s 3ms/step - loss: 0.6927 - accuracy: 0.7686 - val_loss: 0.5429 - val_accuracy: 0.8386\n",
      "\n",
      "Epoch 00039: val_loss did not improve from 0.53465\n",
      "Epoch 40/100\n",
      "219/219 [==============================] - 1s 3ms/step - loss: 0.6859 - accuracy: 0.7694 - val_loss: 0.5272 - val_accuracy: 0.8460\n",
      "\n",
      "Epoch 00040: val_loss improved from 0.53465 to 0.52716, saving model to saved_models\\weights.best.basic_mlp.hdf5\n",
      "Epoch 41/100\n",
      "219/219 [==============================] - 1s 3ms/step - loss: 0.6648 - accuracy: 0.7747 - val_loss: 0.5134 - val_accuracy: 0.8477\n",
      "\n",
      "Epoch 00041: val_loss improved from 0.52716 to 0.51337, saving model to saved_models\\weights.best.basic_mlp.hdf5\n",
      "Epoch 42/100\n",
      "219/219 [==============================] - 1s 3ms/step - loss: 0.6723 - accuracy: 0.7679 - val_loss: 0.5206 - val_accuracy: 0.8369\n",
      "\n",
      "Epoch 00042: val_loss did not improve from 0.51337\n",
      "Epoch 43/100\n",
      "219/219 [==============================] - 1s 3ms/step - loss: 0.6548 - accuracy: 0.7827 - val_loss: 0.4989 - val_accuracy: 0.8489\n",
      "\n",
      "Epoch 00043: val_loss improved from 0.51337 to 0.49891, saving model to saved_models\\weights.best.basic_mlp.hdf5\n",
      "Epoch 44/100\n",
      "219/219 [==============================] - 1s 3ms/step - loss: 0.6463 - accuracy: 0.7843 - val_loss: 0.5095 - val_accuracy: 0.8540\n",
      "\n",
      "Epoch 00044: val_loss did not improve from 0.49891\n",
      "Epoch 45/100\n",
      "219/219 [==============================] - 1s 3ms/step - loss: 0.6365 - accuracy: 0.7812 - val_loss: 0.5043 - val_accuracy: 0.8477\n",
      "\n",
      "Epoch 00045: val_loss did not improve from 0.49891\n",
      "Epoch 46/100\n",
      "219/219 [==============================] - 1s 3ms/step - loss: 0.6465 - accuracy: 0.7843 - val_loss: 0.5134 - val_accuracy: 0.8403\n",
      "\n",
      "Epoch 00046: val_loss did not improve from 0.49891\n",
      "Epoch 47/100\n",
      "219/219 [==============================] - 1s 3ms/step - loss: 0.6652 - accuracy: 0.7719 - val_loss: 0.5001 - val_accuracy: 0.8392\n",
      "\n",
      "Epoch 00047: val_loss did not improve from 0.49891\n",
      "Epoch 48/100\n",
      "219/219 [==============================] - 1s 3ms/step - loss: 0.6426 - accuracy: 0.7853 - val_loss: 0.4993 - val_accuracy: 0.8460\n",
      "\n",
      "Epoch 00048: val_loss did not improve from 0.49891\n",
      "Epoch 49/100\n",
      "219/219 [==============================] - 1s 3ms/step - loss: 0.6573 - accuracy: 0.7782 - val_loss: 0.5129 - val_accuracy: 0.8489\n",
      "\n",
      "Epoch 00049: val_loss did not improve from 0.49891\n",
      "Epoch 50/100\n",
      "219/219 [==============================] - 1s 3ms/step - loss: 0.6334 - accuracy: 0.7824 - val_loss: 0.5143 - val_accuracy: 0.8460\n",
      "\n",
      "Epoch 00050: val_loss did not improve from 0.49891\n",
      "Epoch 51/100\n",
      "219/219 [==============================] - 1s 4ms/step - loss: 0.6103 - accuracy: 0.7904 - val_loss: 0.4851 - val_accuracy: 0.8540\n",
      "\n",
      "Epoch 00051: val_loss improved from 0.49891 to 0.48508, saving model to saved_models\\weights.best.basic_mlp.hdf5\n",
      "Epoch 52/100\n",
      "219/219 [==============================] - 1s 4ms/step - loss: 0.6014 - accuracy: 0.7937 - val_loss: 0.4949 - val_accuracy: 0.8592\n",
      "\n",
      "Epoch 00052: val_loss did not improve from 0.48508\n",
      "Epoch 53/100\n",
      "219/219 [==============================] - 1s 4ms/step - loss: 0.6083 - accuracy: 0.7931 - val_loss: 0.5197 - val_accuracy: 0.8495\n",
      "\n",
      "Epoch 00053: val_loss did not improve from 0.48508\n",
      "Epoch 54/100\n",
      "219/219 [==============================] - 1s 4ms/step - loss: 0.6298 - accuracy: 0.7894 - val_loss: 0.5074 - val_accuracy: 0.8489\n",
      "\n",
      "Epoch 00054: val_loss did not improve from 0.48508\n",
      "Epoch 55/100\n",
      "219/219 [==============================] - 1s 5ms/step - loss: 0.6246 - accuracy: 0.7865 - val_loss: 0.4912 - val_accuracy: 0.8638\n",
      "\n",
      "Epoch 00055: val_loss did not improve from 0.48508\n",
      "Epoch 56/100\n",
      "219/219 [==============================] - 1s 4ms/step - loss: 0.5882 - accuracy: 0.7948 - val_loss: 0.4830 - val_accuracy: 0.8603\n",
      "\n",
      "Epoch 00056: val_loss improved from 0.48508 to 0.48298, saving model to saved_models\\weights.best.basic_mlp.hdf5\n",
      "Epoch 57/100\n",
      "219/219 [==============================] - 1s 3ms/step - loss: 0.5910 - accuracy: 0.7996 - val_loss: 0.4929 - val_accuracy: 0.8598\n",
      "\n",
      "Epoch 00057: val_loss did not improve from 0.48298\n",
      "Epoch 58/100\n",
      "219/219 [==============================] - 1s 3ms/step - loss: 0.6031 - accuracy: 0.7937 - val_loss: 0.4974 - val_accuracy: 0.8580\n",
      "\n",
      "Epoch 00058: val_loss did not improve from 0.48298\n",
      "Epoch 59/100\n",
      "219/219 [==============================] - 1s 3ms/step - loss: 0.6004 - accuracy: 0.8044 - val_loss: 0.4805 - val_accuracy: 0.8655\n",
      "\n",
      "Epoch 00059: val_loss improved from 0.48298 to 0.48048, saving model to saved_models\\weights.best.basic_mlp.hdf5\n",
      "Epoch 60/100\n",
      "219/219 [==============================] - 1s 3ms/step - loss: 0.6202 - accuracy: 0.7927 - val_loss: 0.4878 - val_accuracy: 0.8620\n",
      "\n",
      "Epoch 00060: val_loss did not improve from 0.48048\n",
      "Epoch 61/100\n",
      "219/219 [==============================] - 1s 4ms/step - loss: 0.5817 - accuracy: 0.7994 - val_loss: 0.4816 - val_accuracy: 0.8592\n",
      "\n",
      "Epoch 00061: val_loss did not improve from 0.48048\n",
      "Epoch 62/100\n",
      "219/219 [==============================] - 1s 4ms/step - loss: 0.5969 - accuracy: 0.7983 - val_loss: 0.4980 - val_accuracy: 0.8546\n",
      "\n",
      "Epoch 00062: val_loss did not improve from 0.48048\n",
      "Epoch 63/100\n",
      "219/219 [==============================] - 1s 3ms/step - loss: 0.5796 - accuracy: 0.7999 - val_loss: 0.4858 - val_accuracy: 0.8535\n",
      "\n",
      "Epoch 00063: val_loss did not improve from 0.48048\n",
      "Epoch 64/100\n",
      "219/219 [==============================] - 1s 4ms/step - loss: 0.5795 - accuracy: 0.8036 - val_loss: 0.4909 - val_accuracy: 0.8586\n",
      "\n",
      "Epoch 00064: val_loss did not improve from 0.48048\n",
      "Epoch 65/100\n",
      "219/219 [==============================] - 1s 3ms/step - loss: 0.5673 - accuracy: 0.8097 - val_loss: 0.4669 - val_accuracy: 0.8769\n",
      "\n",
      "Epoch 00065: val_loss improved from 0.48048 to 0.46692, saving model to saved_models\\weights.best.basic_mlp.hdf5\n",
      "Epoch 66/100\n",
      "219/219 [==============================] - 1s 3ms/step - loss: 0.5794 - accuracy: 0.8010 - val_loss: 0.4785 - val_accuracy: 0.8638\n",
      "\n",
      "Epoch 00066: val_loss did not improve from 0.46692\n",
      "Epoch 67/100\n",
      "219/219 [==============================] - 1s 3ms/step - loss: 0.5777 - accuracy: 0.8047 - val_loss: 0.4900 - val_accuracy: 0.8558\n",
      "\n",
      "Epoch 00067: val_loss did not improve from 0.46692\n",
      "Epoch 68/100\n",
      "219/219 [==============================] - 1s 3ms/step - loss: 0.5673 - accuracy: 0.8092 - val_loss: 0.4681 - val_accuracy: 0.8626\n",
      "\n",
      "Epoch 00068: val_loss did not improve from 0.46692\n",
      "Epoch 69/100\n",
      "219/219 [==============================] - 1s 3ms/step - loss: 0.5953 - accuracy: 0.8016 - val_loss: 0.4585 - val_accuracy: 0.8661\n",
      "\n",
      "Epoch 00069: val_loss improved from 0.46692 to 0.45850, saving model to saved_models\\weights.best.basic_mlp.hdf5\n",
      "Epoch 70/100\n",
      "219/219 [==============================] - 1s 4ms/step - loss: 0.5664 - accuracy: 0.8096 - val_loss: 0.4693 - val_accuracy: 0.8689\n",
      "\n",
      "Epoch 00070: val_loss did not improve from 0.45850\n",
      "Epoch 71/100\n",
      "219/219 [==============================] - 1s 3ms/step - loss: 0.5901 - accuracy: 0.7987 - val_loss: 0.4551 - val_accuracy: 0.8632\n",
      "\n",
      "Epoch 00071: val_loss improved from 0.45850 to 0.45512, saving model to saved_models\\weights.best.basic_mlp.hdf5\n",
      "Epoch 72/100\n"
     ]
    },
    {
     "name": "stdout",
     "output_type": "stream",
     "text": [
      "219/219 [==============================] - 1s 3ms/step - loss: 0.5452 - accuracy: 0.8120 - val_loss: 0.4762 - val_accuracy: 0.8575\n",
      "\n",
      "Epoch 00072: val_loss did not improve from 0.45512\n",
      "Epoch 73/100\n",
      "219/219 [==============================] - 1s 3ms/step - loss: 0.5572 - accuracy: 0.8132 - val_loss: 0.4674 - val_accuracy: 0.8661\n",
      "\n",
      "Epoch 00073: val_loss did not improve from 0.45512\n",
      "Epoch 74/100\n",
      "219/219 [==============================] - 1s 3ms/step - loss: 0.5335 - accuracy: 0.8159 - val_loss: 0.4742 - val_accuracy: 0.8672\n",
      "\n",
      "Epoch 00074: val_loss did not improve from 0.45512\n",
      "Epoch 75/100\n",
      "219/219 [==============================] - 1s 4ms/step - loss: 0.5883 - accuracy: 0.8077 - val_loss: 0.4390 - val_accuracy: 0.8769\n",
      "\n",
      "Epoch 00075: val_loss improved from 0.45512 to 0.43899, saving model to saved_models\\weights.best.basic_mlp.hdf5\n",
      "Epoch 76/100\n",
      "219/219 [==============================] - 1s 4ms/step - loss: 0.5424 - accuracy: 0.8155 - val_loss: 0.4528 - val_accuracy: 0.8712\n",
      "\n",
      "Epoch 00076: val_loss did not improve from 0.43899\n",
      "Epoch 77/100\n",
      "219/219 [==============================] - 1s 3ms/step - loss: 0.5543 - accuracy: 0.8169 - val_loss: 0.4651 - val_accuracy: 0.8718\n",
      "\n",
      "Epoch 00077: val_loss did not improve from 0.43899\n",
      "Epoch 78/100\n",
      "219/219 [==============================] - 1s 3ms/step - loss: 0.5743 - accuracy: 0.8117 - val_loss: 0.4757 - val_accuracy: 0.8558\n",
      "\n",
      "Epoch 00078: val_loss did not improve from 0.43899\n",
      "Epoch 79/100\n",
      "219/219 [==============================] - 1s 3ms/step - loss: 0.5449 - accuracy: 0.8136 - val_loss: 0.4641 - val_accuracy: 0.8724\n",
      "\n",
      "Epoch 00079: val_loss did not improve from 0.43899\n",
      "Epoch 80/100\n",
      "219/219 [==============================] - 1s 3ms/step - loss: 0.5370 - accuracy: 0.8183 - val_loss: 0.4448 - val_accuracy: 0.8718\n",
      "\n",
      "Epoch 00080: val_loss did not improve from 0.43899\n",
      "Epoch 81/100\n",
      "219/219 [==============================] - 1s 3ms/step - loss: 0.5495 - accuracy: 0.8200 - val_loss: 0.4739 - val_accuracy: 0.8804\n",
      "\n",
      "Epoch 00081: val_loss did not improve from 0.43899\n",
      "Epoch 82/100\n",
      "219/219 [==============================] - 1s 3ms/step - loss: 0.5458 - accuracy: 0.8168 - val_loss: 0.4602 - val_accuracy: 0.8769\n",
      "\n",
      "Epoch 00082: val_loss did not improve from 0.43899\n",
      "Epoch 83/100\n",
      "219/219 [==============================] - 1s 3ms/step - loss: 0.5397 - accuracy: 0.8199 - val_loss: 0.4469 - val_accuracy: 0.8758\n",
      "\n",
      "Epoch 00083: val_loss did not improve from 0.43899\n",
      "Epoch 84/100\n",
      "219/219 [==============================] - 1s 3ms/step - loss: 0.5394 - accuracy: 0.8142 - val_loss: 0.4568 - val_accuracy: 0.8735\n",
      "\n",
      "Epoch 00084: val_loss did not improve from 0.43899\n",
      "Epoch 85/100\n",
      "219/219 [==============================] - 1s 3ms/step - loss: 0.5434 - accuracy: 0.8152 - val_loss: 0.4236 - val_accuracy: 0.8758\n",
      "\n",
      "Epoch 00085: val_loss improved from 0.43899 to 0.42358, saving model to saved_models\\weights.best.basic_mlp.hdf5\n",
      "Epoch 86/100\n",
      "219/219 [==============================] - 1s 3ms/step - loss: 0.5860 - accuracy: 0.8063 - val_loss: 0.4613 - val_accuracy: 0.8666\n",
      "\n",
      "Epoch 00086: val_loss did not improve from 0.42358\n",
      "Epoch 87/100\n",
      "219/219 [==============================] - 1s 3ms/step - loss: 0.5549 - accuracy: 0.8152 - val_loss: 0.4842 - val_accuracy: 0.8638\n",
      "\n",
      "Epoch 00087: val_loss did not improve from 0.42358\n",
      "Epoch 88/100\n",
      "219/219 [==============================] - 1s 4ms/step - loss: 0.5209 - accuracy: 0.8233 - val_loss: 0.4629 - val_accuracy: 0.8701\n",
      "\n",
      "Epoch 00088: val_loss did not improve from 0.42358\n",
      "Epoch 89/100\n",
      "219/219 [==============================] - 1s 3ms/step - loss: 0.5165 - accuracy: 0.8239 - val_loss: 0.4479 - val_accuracy: 0.8746\n",
      "\n",
      "Epoch 00089: val_loss did not improve from 0.42358\n",
      "Epoch 90/100\n",
      "219/219 [==============================] - 1s 3ms/step - loss: 0.5213 - accuracy: 0.8273 - val_loss: 0.4537 - val_accuracy: 0.8798\n",
      "\n",
      "Epoch 00090: val_loss did not improve from 0.42358\n",
      "Epoch 91/100\n",
      "219/219 [==============================] - 1s 3ms/step - loss: 0.5196 - accuracy: 0.8223 - val_loss: 0.4390 - val_accuracy: 0.8809\n",
      "\n",
      "Epoch 00091: val_loss did not improve from 0.42358\n",
      "Epoch 92/100\n",
      "219/219 [==============================] - 1s 3ms/step - loss: 0.5376 - accuracy: 0.8168 - val_loss: 0.4694 - val_accuracy: 0.8718\n",
      "\n",
      "Epoch 00092: val_loss did not improve from 0.42358\n",
      "Epoch 93/100\n",
      "219/219 [==============================] - 1s 3ms/step - loss: 0.5412 - accuracy: 0.8215 - val_loss: 0.4807 - val_accuracy: 0.8724\n",
      "\n",
      "Epoch 00093: val_loss did not improve from 0.42358\n",
      "Epoch 94/100\n",
      "219/219 [==============================] - 1s 4ms/step - loss: 0.5328 - accuracy: 0.8216 - val_loss: 0.4546 - val_accuracy: 0.8809\n",
      "\n",
      "Epoch 00094: val_loss did not improve from 0.42358\n",
      "Epoch 95/100\n",
      "219/219 [==============================] - 1s 3ms/step - loss: 0.5099 - accuracy: 0.8278 - val_loss: 0.4598 - val_accuracy: 0.8729\n",
      "\n",
      "Epoch 00095: val_loss did not improve from 0.42358\n",
      "Epoch 96/100\n",
      "219/219 [==============================] - 1s 4ms/step - loss: 0.5430 - accuracy: 0.8252 - val_loss: 0.4543 - val_accuracy: 0.8827\n",
      "\n",
      "Epoch 00096: val_loss did not improve from 0.42358\n",
      "Epoch 97/100\n",
      "219/219 [==============================] - 1s 4ms/step - loss: 0.5229 - accuracy: 0.8251 - val_loss: 0.4469 - val_accuracy: 0.8735\n",
      "\n",
      "Epoch 00097: val_loss did not improve from 0.42358\n",
      "Epoch 98/100\n",
      "219/219 [==============================] - 1s 4ms/step - loss: 0.5486 - accuracy: 0.8162 - val_loss: 0.4435 - val_accuracy: 0.8878\n",
      "\n",
      "Epoch 00098: val_loss did not improve from 0.42358\n",
      "Epoch 99/100\n",
      "219/219 [==============================] - 1s 4ms/step - loss: 0.4914 - accuracy: 0.8315 - val_loss: 0.4346 - val_accuracy: 0.8827\n",
      "\n",
      "Epoch 00099: val_loss did not improve from 0.42358\n",
      "Epoch 100/100\n",
      "219/219 [==============================] - 1s 4ms/step - loss: 0.5124 - accuracy: 0.8268 - val_loss: 0.4518 - val_accuracy: 0.8786\n",
      "\n",
      "Epoch 00100: val_loss did not improve from 0.42358\n",
      "Training completed in time:  0:01:27.530984\n"
     ]
    }
   ],
   "source": [
    "from keras.callbacks import ModelCheckpoint \n",
    "from datetime import datetime \n",
    "\n",
    "num_epochs = 100\n",
    "num_batch_size = 32\n",
    "\n",
    "checkpointer = ModelCheckpoint(filepath='saved_models/weights.best.basic_mlp.hdf5', \n",
    "                               verbose=1, save_best_only=True)\n",
    "start = datetime.now()\n",
    "\n",
    "model.fit(x_train, y_train, batch_size=num_batch_size, epochs=num_epochs, validation_data=(x_test, y_test), callbacks=[checkpointer], verbose=1)\n",
    "\n",
    "\n",
    "duration = datetime.now() - start\n",
    "print(\"Training completed in time: \", duration)"
   ]
  },
  {
   "cell_type": "markdown",
   "metadata": {},
   "source": [
    "### Test the model \n",
    "\n",
    "Here we will review the accuracy of the model on both the training and test data sets. "
   ]
  },
  {
   "cell_type": "code",
   "execution_count": 6,
   "metadata": {},
   "outputs": [
    {
     "name": "stdout",
     "output_type": "stream",
     "text": [
      "Training Accuracy:  0.9338582754135132\n",
      "Testing Accuracy:  0.878649115562439\n"
     ]
    }
   ],
   "source": [
    "# Evaluating the model on the training and testing set\n",
    "score = model.evaluate(x_train, y_train, verbose=0)\n",
    "print(\"Training Accuracy: \", score[1])\n",
    "\n",
    "score = model.evaluate(x_test, y_test, verbose=0)\n",
    "print(\"Testing Accuracy: \", score[1])"
   ]
  },
  {
   "cell_type": "markdown",
   "metadata": {},
   "source": [
    "The initial Training and Testing accuracy scores are quite high. As there is not a great difference between the Training and Test scores (~5%) this suggests that the model has not suffered from overfitting. "
   ]
  },
  {
   "cell_type": "markdown",
   "metadata": {},
   "source": [
    "### Predictions  \n",
    "\n",
    "Here we will build a method which will allow us to test the models predictions on a specified audio .wav file. "
   ]
  },
  {
   "cell_type": "code",
   "execution_count": 7,
   "metadata": {},
   "outputs": [],
   "source": [
    "import librosa \n",
    "import numpy as np \n",
    "\n",
    "def extract_feature(file_name):\n",
    "   \n",
    "    try:\n",
    "        audio_data, sample_rate = librosa.load(file_name, res_type='kaiser_fast') \n",
    "        mfccs = librosa.feature.mfcc(y=audio_data, sr=sample_rate, n_mfcc=40)\n",
    "        mfccsscaled = np.mean(mfccs.T,axis=0)\n",
    "        \n",
    "    except Exception as e:\n",
    "        print(\"Error encountered while parsing file: \", file)\n",
    "        return None, None\n",
    "\n",
    "    return np.array([mfccsscaled])\n"
   ]
  },
  {
   "cell_type": "code",
   "execution_count": 8,
   "metadata": {},
   "outputs": [],
   "source": [
    "def print_prediction(file_name):\n",
    "    prediction_feature = extract_feature(file_name) \n",
    "\n",
    "    predicted_vector = model.predict_classes(prediction_feature)\n",
    "    predicted_class = le.inverse_transform(predicted_vector) \n",
    "    print(\"The predicted class is:\", predicted_class[0], '\\n') \n",
    "\n",
    "    predicted_proba_vector = model.predict_proba(prediction_feature) \n",
    "    predicted_proba = predicted_proba_vector[0]\n",
    "    for i in range(len(predicted_proba)): \n",
    "        category = le.inverse_transform(np.array([i]))\n",
    "        print(category[0], \"\\t\\t : \", format(predicted_proba[i], '.32f') )"
   ]
  },
  {
   "cell_type": "markdown",
   "metadata": {},
   "source": [
    "### Validation \n",
    "\n",
    "#### Test with sample data \n",
    "\n",
    "Initial sainity check to verify the predictions using a subsection of the sample audio files we explored in the first notebook. We expect the bulk of these to be classified correctly. "
   ]
  },
  {
   "cell_type": "code",
   "execution_count": 9,
   "metadata": {},
   "outputs": [
    {
     "name": "stderr",
     "output_type": "stream",
     "text": [
      "C:\\Users\\Simriti Koul\\Anaconda New\\envs\\Capstone\\lib\\site-packages\\keras\\engine\\sequential.py:450: UserWarning: `model.predict_classes()` is deprecated and will be removed after 2021-01-01. Please use instead:* `np.argmax(model.predict(x), axis=-1)`,   if your model does multi-class classification   (e.g. if it uses a `softmax` last-layer activation).* `(model.predict(x) > 0.5).astype(\"int32\")`,   if your model does binary classification   (e.g. if it uses a `sigmoid` last-layer activation).\n",
      "  warnings.warn('`model.predict_classes()` is deprecated and '\n"
     ]
    },
    {
     "name": "stdout",
     "output_type": "stream",
     "text": [
      "The predicted class is: air_conditioner \n",
      "\n",
      "air_conditioner \t\t :  0.99765741825103759765625000000000\n",
      "car_horn \t\t :  0.00051001412793993949890136718750\n",
      "children_playing \t\t :  0.00010772443783935159444808959961\n",
      "dog_bark \t\t :  0.00004354374686954542994499206543\n",
      "drilling \t\t :  0.00042141648009419441223144531250\n",
      "engine_idling \t\t :  0.00103361869696527719497680664062\n",
      "gun_shot \t\t :  0.00001595761568751186132431030273\n",
      "jackhammer \t\t :  0.00006289265729719772934913635254\n",
      "siren \t\t :  0.00000077757891858709626831114292\n",
      "street_music \t\t :  0.00014671032840851694345474243164\n"
     ]
    },
    {
     "name": "stderr",
     "output_type": "stream",
     "text": [
      "C:\\Users\\Simriti Koul\\Anaconda New\\envs\\Capstone\\lib\\site-packages\\keras\\engine\\sequential.py:425: UserWarning: `model.predict_proba()` is deprecated and will be removed after 2021-01-01. Please use `model.predict()` instead.\n",
      "  warnings.warn('`model.predict_proba()` is deprecated and '\n"
     ]
    }
   ],
   "source": [
    "# Class: Air Conditioner\n",
    "\n",
    "filename = (r\"C:\\Users\\Simriti Koul\\Desktop\\CAPSTONE\\UrbanSound8K.tar\\UrbanSound8K\\train\\fold5\\100852-0-0-0.wav\") \n",
    "print_prediction(filename) "
   ]
  },
  {
   "cell_type": "code",
   "execution_count": 10,
   "metadata": {
    "scrolled": true
   },
   "outputs": [
    {
     "name": "stdout",
     "output_type": "stream",
     "text": [
      "The predicted class is: drilling \n",
      "\n",
      "air_conditioner \t\t :  0.00000453069560535368509590625763\n",
      "car_horn \t\t :  0.00013925565872341394424438476562\n",
      "children_playing \t\t :  0.00147388770710676908493041992188\n",
      "dog_bark \t\t :  0.00015168463869486004114151000977\n",
      "drilling \t\t :  0.93388199806213378906250000000000\n",
      "engine_idling \t\t :  0.00000031090453944671025965362787\n",
      "gun_shot \t\t :  0.00001169474489870481193065643311\n",
      "jackhammer \t\t :  0.00000526221401742077432572841644\n",
      "siren \t\t :  0.00000013799305520478810649365187\n",
      "street_music \t\t :  0.06433135271072387695312500000000\n"
     ]
    }
   ],
   "source": [
    "# Class: Drilling\n",
    "\n",
    "filename = (r\"C:\\Users\\Simriti Koul\\Desktop\\CAPSTONE\\UrbanSound8K.tar\\UrbanSound8K\\train\\fold3\\103199-4-0-0.wav\")\n",
    "print_prediction(filename) "
   ]
  },
  {
   "cell_type": "code",
   "execution_count": 11,
   "metadata": {},
   "outputs": [
    {
     "name": "stdout",
     "output_type": "stream",
     "text": [
      "The predicted class is: street_music \n",
      "\n",
      "air_conditioner \t\t :  0.00354291405528783798217773437500\n",
      "car_horn \t\t :  0.00334771955385804176330566406250\n",
      "children_playing \t\t :  0.02169414423406124114990234375000\n",
      "dog_bark \t\t :  0.18936577439308166503906250000000\n",
      "drilling \t\t :  0.00625380314886569976806640625000\n",
      "engine_idling \t\t :  0.00078949128510430455207824707031\n",
      "gun_shot \t\t :  0.00902641285210847854614257812500\n",
      "jackhammer \t\t :  0.00607445463538169860839843750000\n",
      "siren \t\t :  0.00041220203274860978126525878906\n",
      "street_music \t\t :  0.75949299335479736328125000000000\n"
     ]
    }
   ],
   "source": [
    "# Class: Street music \n",
    "\n",
    "filename = (r\"C:\\Users\\Simriti Koul\\Desktop\\CAPSTONE\\UrbanSound8K.tar\\UrbanSound8K\\train\\fold7\\101848-9-0-0.wav\")\n",
    "print_prediction(filename) "
   ]
  },
  {
   "cell_type": "code",
   "execution_count": 12,
   "metadata": {},
   "outputs": [
    {
     "name": "stdout",
     "output_type": "stream",
     "text": [
      "The predicted class is: street_music \n",
      "\n",
      "air_conditioner \t\t :  0.00472804810851812362670898437500\n",
      "car_horn \t\t :  0.05722814798355102539062500000000\n",
      "children_playing \t\t :  0.10663680732250213623046875000000\n",
      "dog_bark \t\t :  0.19712772965431213378906250000000\n",
      "drilling \t\t :  0.10537705570459365844726562500000\n",
      "engine_idling \t\t :  0.00423351302742958068847656250000\n",
      "gun_shot \t\t :  0.04030582308769226074218750000000\n",
      "jackhammer \t\t :  0.13848775625228881835937500000000\n",
      "siren \t\t :  0.00154224026482552289962768554688\n",
      "street_music \t\t :  0.34433290362358093261718750000000\n"
     ]
    }
   ],
   "source": [
    "# Class: Car Horn \n",
    "\n",
    "filename = (r\"C:\\Users\\Simriti Koul\\Desktop\\CAPSTONE\\UrbanSound8K.tar\\UrbanSound8K\\train\\fold10\\100648-1-0-0.wav\")\n",
    "print_prediction(filename) "
   ]
  },
  {
   "cell_type": "markdown",
   "metadata": {},
   "source": [
    "#### Observations \n",
    "\n",
    "From this brief sanity check the model seems to predict well. One errror was observed whereby a car horn was incorrectly classifed as a dog bark. \n",
    "\n",
    "We can see from the per class confidence that this was quite a low score (43%). This allows follows our early observation that a dog bark and car horn are similar in spectral shape. "
   ]
  },
  {
   "cell_type": "markdown",
   "metadata": {},
   "source": [
    "### Other audio\n",
    "\n",
    "Here we will use a sample of various copyright free sounds that we not part of either our test or training data to further validate our model. "
   ]
  },
  {
   "cell_type": "code",
   "execution_count": 13,
   "metadata": {},
   "outputs": [
    {
     "name": "stdout",
     "output_type": "stream",
     "text": [
      "The predicted class is: dog_bark \n",
      "\n",
      "air_conditioner \t\t :  0.00030687192338518798351287841797\n",
      "car_horn \t\t :  0.00032225772156380116939544677734\n",
      "children_playing \t\t :  0.00474609946832060813903808593750\n",
      "dog_bark \t\t :  0.77336806058883666992187500000000\n",
      "drilling \t\t :  0.00888785626739263534545898437500\n",
      "engine_idling \t\t :  0.00018908230413217097520828247070\n",
      "gun_shot \t\t :  0.01179265696555376052856445312500\n",
      "jackhammer \t\t :  0.00010120595106855034828186035156\n",
      "siren \t\t :  0.00019697181414812803268432617188\n",
      "street_music \t\t :  0.20008899271488189697265625000000\n"
     ]
    }
   ],
   "source": [
    "filename = (r\"C:\\Users\\Simriti Koul\\Desktop\\CAPSTONE\\Evaluation audio\\dog_bark_1.wav\")\n",
    "print_prediction(filename) "
   ]
  },
  {
   "cell_type": "code",
   "execution_count": 14,
   "metadata": {
    "scrolled": true
   },
   "outputs": [
    {
     "name": "stdout",
     "output_type": "stream",
     "text": [
      "The predicted class is: drilling \n",
      "\n",
      "air_conditioner \t\t :  0.34108763933181762695312500000000\n",
      "car_horn \t\t :  0.00678393011912703514099121093750\n",
      "children_playing \t\t :  0.03632827475666999816894531250000\n",
      "dog_bark \t\t :  0.00861750636249780654907226562500\n",
      "drilling \t\t :  0.42608013749122619628906250000000\n",
      "engine_idling \t\t :  0.01366939768195152282714843750000\n",
      "gun_shot \t\t :  0.00453296350315213203430175781250\n",
      "jackhammer \t\t :  0.14550997316837310791015625000000\n",
      "siren \t\t :  0.00192271184641867876052856445312\n",
      "street_music \t\t :  0.01546743605285882949829101562500\n"
     ]
    }
   ],
   "source": [
    "filename = (r\"C:\\Users\\Simriti Koul\\Desktop\\CAPSTONE\\Evaluation audio\\drilling_1.wav\")\n",
    "\n",
    "print_prediction(filename) "
   ]
  },
  {
   "cell_type": "code",
   "execution_count": 15,
   "metadata": {},
   "outputs": [
    {
     "name": "stdout",
     "output_type": "stream",
     "text": [
      "The predicted class is: dog_bark \n",
      "\n",
      "air_conditioner \t\t :  0.06776662170886993408203125000000\n",
      "car_horn \t\t :  0.00015831571363378316164016723633\n",
      "children_playing \t\t :  0.00096621987177059054374694824219\n",
      "dog_bark \t\t :  0.55382043123245239257812500000000\n",
      "drilling \t\t :  0.00146359112113714218139648437500\n",
      "engine_idling \t\t :  0.00372890196740627288818359375000\n",
      "gun_shot \t\t :  0.00162448163609951734542846679688\n",
      "jackhammer \t\t :  0.00007820993778295814990997314453\n",
      "siren \t\t :  0.00039035922964103519916534423828\n",
      "street_music \t\t :  0.37000289559364318847656250000000\n"
     ]
    }
   ],
   "source": [
    "filename = (r\"C:\\Users\\Simriti Koul\\Desktop\\CAPSTONE\\Evaluation audio\\gun_shot_1.wav\")\n",
    "\n",
    "print_prediction(filename) \n",
    "\n",
    "# sample data weighted towards gun shot - peak in the dog barking sample is simmilar in shape to the gun shot sample"
   ]
  },
  {
   "cell_type": "code",
   "execution_count": 16,
   "metadata": {},
   "outputs": [
    {
     "name": "stdout",
     "output_type": "stream",
     "text": [
      "The predicted class is: siren \n",
      "\n",
      "air_conditioner \t\t :  0.00000010728005861437850398942828\n",
      "car_horn \t\t :  0.00000962881131272297352552413940\n",
      "children_playing \t\t :  0.00002930800656031351536512374878\n",
      "dog_bark \t\t :  0.01859312690794467926025390625000\n",
      "drilling \t\t :  0.00000646794342173961922526359558\n",
      "engine_idling \t\t :  0.02171797119081020355224609375000\n",
      "gun_shot \t\t :  0.00006894153921166434884071350098\n",
      "jackhammer \t\t :  0.00000164585208040080033242702484\n",
      "siren \t\t :  0.95715039968490600585937500000000\n",
      "street_music \t\t :  0.00242242426611483097076416015625\n"
     ]
    }
   ],
   "source": [
    "filename = (r\"C:\\Users\\Simriti Koul\\Desktop\\CAPSTONE\\Evaluation audio\\siren_1.wav\")\n",
    "\n",
    "print_prediction(filename) "
   ]
  },
  {
   "cell_type": "markdown",
   "metadata": {},
   "source": [
    "#### Observations \n",
    "\n",
    "The performance of our initial model is satisfactorry and has generalised well, seeming to predict well when tested against new audio data. "
   ]
  },
  {
   "cell_type": "markdown",
   "metadata": {},
   "source": [
    "### *In the next notebook we will refine our model*"
   ]
  }
 ],
 "metadata": {
  "kernelspec": {
   "display_name": "Python 3",
   "language": "python",
   "name": "python3"
  },
  "language_info": {
   "codemirror_mode": {
    "name": "ipython",
    "version": 3
   },
   "file_extension": ".py",
   "mimetype": "text/x-python",
   "name": "python",
   "nbconvert_exporter": "python",
   "pygments_lexer": "ipython3",
   "version": "3.6.5"
  }
 },
 "nbformat": 4,
 "nbformat_minor": 2
}
